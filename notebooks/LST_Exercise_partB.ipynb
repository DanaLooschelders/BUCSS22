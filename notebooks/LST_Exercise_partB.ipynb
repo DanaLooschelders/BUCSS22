{
  "cells": [
    {
      "cell_type": "markdown",
      "metadata": {
        "id": "AnONONNxf6gD"
      },
      "source": [
        "# Remote Sensing Exercise - Part B\n",
        "\n",
        "In this  exercise you will analyze some data from our SUHI database.\n",
        "\n",
        "In particular, what we will do:\n",
        "\n",
        "1. Open the Database and use SQL to retrieve data from it.\n",
        "2. Calculate the daily SUHI intensity (SUHII) for Mexico city.\n",
        "3. Caclulate the monthly and annual means for SUHII and rural LST.\n",
        "4. Visualize the SUHII seasonal hysteresis of Mexico city.\n",
        "5. Visualize the SUHII seasonal hystereis in each densely-populated climate of Earth.\n",
        "\n",
        "## Database Tables\n",
        "\n",
        "The SUHI database includes six tables that store the aggregated satellite data (2000-2020) and other ancillary information. These six tables are the following:\n",
        "\n",
        "| Table        | Description                                               | \n",
        "| ------------ | ----------------------------------------------------------| \n",
        "| `cities`     | The cities and their atrributes.                          | \n",
        "| `countries`  | The world's countries and their chracteristics.           |\n",
        "| `data_day`   | The daytime data.                                         |\n",
        "| `data_night` | The nighttime data.                                       |\n",
        "| `city_size`  | The area  [km<sup>2</sup>] of each city polygon per year. |\n",
        "| `land_covers`| The land cover legend.                                    |\n",
        "\n",
        "To view the database in your pc you can use this software: https://dbeaver.io/.\n",
        "\n",
        "******\n",
        "**Copyright: 2022, Panagiotis Sismanidis**\n",
        "******\n"
      ]
    },
    {
      "cell_type": "markdown",
      "metadata": {
        "id": "dzzSnAALf6gk"
      },
      "source": [
        "## Setting up what we need..."
      ]
    },
    {
      "cell_type": "code",
      "execution_count": null,
      "metadata": {
        "id": "XqVIuErCf6gn"
      },
      "outputs": [],
      "source": [
        "# First load your Google Drive.\n",
        "from google.colab import drive\n",
        "drive.mount('/content/drive', force_remount=True)\n",
        "\n",
        "# After mounting, check folders in left side-bar\n",
        "# If this code does not work, you can use the \"Mount Drive\" button in the left side-bar"
      ]
    },
    {
      "cell_type": "code",
      "execution_count": null,
      "metadata": {
        "id": "yivfXAkJf6gt"
      },
      "outputs": [],
      "source": [
        "# Set relevant directories\n",
        "import os\n",
        "\n",
        "# Your own baseline directory - if mounted under MyDrive, do not change.\n",
        "BASE_DIR = os.path.join('/content/drive/MyDrive/BUCSS22')\n",
        "print('BASE_DIR: ',BASE_DIR)\n",
        "\n",
        "# Create a link to notebooks directory\n",
        "YOUR_NAME = \"Panagiotis_Lecturer\" # Name of your own folder\n",
        "NOTEBOOKS_DIR = os.path.join(BASE_DIR, YOUR_NAME, 'notebooks')\n",
        "print('NOTEBOOKS_DIR: ',NOTEBOOKS_DIR)\n",
        "\n",
        "# Other relevant folders\n",
        "LST_DIR         = os.path.join(BASE_DIR, 'DATA_SHARE', 'LST')\n",
        "print('DATA_DIR: ',LST_DIR)"
      ]
    },
    {
      "cell_type": "markdown",
      "metadata": {
        "id": "pCwXyhT6f6gw"
      },
      "source": [
        "# Basics\n",
        "\n",
        "To retrieve data from an SQLite database we will use the [`pandas.read_sql()`](https://pandas.pydata.org/docs/reference/api/pandas.read_sql.html) method, which will return a `pandas.Dataframe` with the queried data. This method takes as input a string describing a SQL `SELECT` statement. The `SELECT` statement is used to select data from a database and in its simplest form it looks like this:\n",
        "```sql\n",
        "SELECT column1, column2, ...\n",
        "FROM table_name;\n",
        "```\n",
        "where, `column1`, and `column2` are the field names of the table you want to select data from and `table_name` is the name of the table.\n",
        "\n",
        "## B.1 Simplest case\n",
        "\n",
        "**Goal**: Retrieve all the rows from the columns `UID` (used instead of name), `country`, `latitude`, and `longitude` in the table `cities`."
      ]
    },
    {
      "cell_type": "code",
      "execution_count": null,
      "metadata": {
        "id": "P6cLiTIef6gz"
      },
      "outputs": [],
      "source": [
        "# Step 1: import the `pandas` and `sqlite3` modules\n",
        "import pandas as pd\n",
        "import sqlite3\n",
        "\n",
        "# Step 2: open a connection to the database.\n",
        "filename = os.path.join(LST_DIR, \"SUHI_DB-MOD11A1.061-v1.0.1.db\")\n",
        "connection = sqlite3.connect(filename)\n",
        "\n",
        "# Step 3: create a sql query\n",
        "sql_query = \"SELECT UID, country, latitude, longitude FROM cities\"\n",
        "\n",
        "# Step 4: retieve data from the database\n",
        "cities = pd.read_sql(\n",
        "    sql = sql_query,\n",
        "    con = connection,  \n",
        ")\n",
        "\n",
        "# Step 5: close the database connection\n",
        "connection.close()\n",
        "\n",
        "# and you are done! :)\n",
        "cities.head()"
      ]
    },
    {
      "cell_type": "markdown",
      "metadata": {
        "id": "83mQ9U3vf6g5"
      },
      "source": [
        "To check the number of rows, use the `len()` method:"
      ]
    },
    {
      "cell_type": "code",
      "execution_count": null,
      "metadata": {
        "id": "jUBLFs_Qf6g8"
      },
      "outputs": [],
      "source": [
        "print(f\"Number of rows: {len(cities)}\")"
      ]
    },
    {
      "cell_type": "markdown",
      "metadata": {
        "id": "0RyEdI8Kf6g-"
      },
      "source": [
        "### B.2 Select Rows based on Condition\n",
        "\n",
        "**Goal**: Same as above, but now keep only the rows where the city elevation is at least 200 m and the climate is classified as oceanic."
      ]
    },
    {
      "cell_type": "code",
      "execution_count": null,
      "metadata": {
        "id": "bJ_9rDK9f6hB"
      },
      "outputs": [],
      "source": [
        "import pandas as pd\n",
        "import sqlite3\n",
        "\n",
        "filename = os.path.join(LST_DIR, \"SUHI_DB-MOD11A1.061-v1.0.1.db\")\n",
        "connection = sqlite3.connect(filename)\n",
        "\n",
        "# select only the cities where the climate is oceanic (Cfb)\n",
        "# and the city elevation is equal or greater than 200 m.\n",
        "sql_query =\"\"\"\n",
        "    SELECT UID, country, latitude, longitude\n",
        "    FROM cities\n",
        "    WHERE climate = \"Cwb\"\n",
        "    AND elevation >= 200\n",
        "    \"\"\"\n",
        "\n",
        "cities = pd.read_sql(\n",
        "    sql = sql_query,\n",
        "    con = connection,  \n",
        ")\n",
        "\n",
        "connection.close()\n",
        "\n",
        "print(cities.head())\n",
        "print(f\"Number of rows: {len(cities)}\")"
      ]
    },
    {
      "cell_type": "markdown",
      "metadata": {
        "id": "uT8vbq1vf6hE"
      },
      "source": [
        "Now, let's do the same without hardcoding the threshold values:"
      ]
    },
    {
      "cell_type": "code",
      "execution_count": null,
      "metadata": {
        "id": "9Pt3fYX6f6hF"
      },
      "outputs": [],
      "source": [
        "import pandas as pd\n",
        "import sqlite3\n",
        "\n",
        "filename = os.path.join(LST_DIR, \"SUHI_DB-MOD11A1.061-v1.0.1.db\")\n",
        "connection = sqlite3.connect(filename)\n",
        "\n",
        "sql_query =\\\n",
        "\"\"\"\n",
        "    SELECT UID, country, latitude, longitude, elevation\n",
        "    FROM cities\n",
        "    WHERE climate=:climate_zone\n",
        "    AND elevation>=:min_elevation\n",
        "\"\"\"\n",
        "\n",
        "# Create a dictionary to store the threshold values.\n",
        "# The keys should have the same names as in the sql_query!\n",
        "query_args = {\n",
        "    \"climate_zone\": \"Cwb\",\n",
        "    \"min_elevation\": 200,\n",
        "}\n",
        "\n",
        "cities = pd.read_sql(\n",
        "    sql = sql_query,\n",
        "    con = connection,\n",
        "    params = query_args,\n",
        ")\n",
        "\n",
        "connection.close()\n",
        "\n",
        "display(cities.head())\n",
        "print(f\"Number of rows: {len(cities)}\")"
      ]
    },
    {
      "cell_type": "markdown",
      "metadata": {
        "id": "X9z-ueZ6f6hH"
      },
      "source": [
        "## Let's get started..."
      ]
    },
    {
      "cell_type": "code",
      "execution_count": null,
      "metadata": {
        "id": "kjWiNJj3f6hK"
      },
      "outputs": [],
      "source": [
        "# First let's import all the modules we need\n",
        "import numpy as np\n",
        "import pandas as pd\n",
        "import matplotlib.pyplot as plt\n",
        "import seaborn as sns\n",
        "import sqlite3\n",
        "from matplotlib.collections import LineCollection\n",
        "from matplotlib.colors import ListedColormap, BoundaryNorm\n",
        "%matplotlib inline\n",
        "\n",
        "plt.rcParams['figure.dpi'] = 100\n",
        "sns.set_style(\"darkgrid\")\n",
        "sns.set_context(\"notebook\")"
      ]
    },
    {
      "cell_type": "markdown",
      "source": [
        "We will start by creating a function to get data from the database.\n",
        "\n",
        "The function should take as input arguments the city ID and the land cover, where:\n",
        "\n",
        "| Land Cover | Value |\n",
        "| ---------- | ----- |\n",
        "| Urban      | 0 |\n",
        "| Rural      | 1 |"
      ],
      "metadata": {
        "id": "LU6TQqGaj7sn"
      }
    },
    {
      "cell_type": "code",
      "execution_count": null,
      "metadata": {
        "id": "f33mAgjkf6hL"
      },
      "outputs": [],
      "source": []
    },
    {
      "cell_type": "markdown",
      "metadata": {
        "id": "_7fHiNOtf6hN"
      },
      "source": [
        "Let's use the function to get the LST data for the City of Mexico (`UID = \"MEX-19957\"`)."
      ]
    },
    {
      "cell_type": "code",
      "execution_count": null,
      "metadata": {
        "id": "XKJHEM-Vf6hO"
      },
      "outputs": [],
      "source": []
    },
    {
      "cell_type": "markdown",
      "metadata": {
        "id": "47A_f7KTf6hS"
      },
      "source": [
        "The number of rows is equal to:"
      ]
    },
    {
      "cell_type": "code",
      "execution_count": null,
      "metadata": {
        "id": "U5QHgMYZf6hT"
      },
      "outputs": [],
      "source": []
    },
    {
      "cell_type": "markdown",
      "source": [
        "> **Task**\n",
        "> \n",
        "> Try to change the default values for `vza_median` and `pxl_perc` values in `sql_query` and see how it affects the dataframe size."
      ],
      "metadata": {
        "id": "-ew6LTfjmCkG"
      }
    },
    {
      "cell_type": "markdown",
      "source": [
        "Before we move on, let's plot the LST means for Mexico City."
      ],
      "metadata": {
        "id": "AeDYLUmXnYTA"
      }
    },
    {
      "cell_type": "code",
      "execution_count": null,
      "metadata": {
        "id": "sSk2N3Pqf6hW"
      },
      "outputs": [],
      "source": [
        "# plot the time series\n"
      ]
    },
    {
      "cell_type": "markdown",
      "source": [
        "## Task 2: Calculate the SUHI Intensity\n",
        "\n",
        "To calculate the SUHI intensity we also need the rural LST."
      ],
      "metadata": {
        "id": "9G1V3SpZoEGL"
      }
    },
    {
      "cell_type": "code",
      "execution_count": null,
      "metadata": {
        "id": "KBNqqNtzf6hY"
      },
      "outputs": [],
      "source": []
    },
    {
      "cell_type": "code",
      "execution_count": null,
      "metadata": {
        "id": "6NilvGjdf6ha"
      },
      "outputs": [],
      "source": [
        "# Let's visualize the two datasets.\n"
      ]
    },
    {
      "cell_type": "markdown",
      "metadata": {
        "id": "Jd1MdbMnf6hd"
      },
      "source": [
        "To calculate the SUHI intensity we first need to join the two dataframes:"
      ]
    },
    {
      "cell_type": "code",
      "execution_count": null,
      "metadata": {
        "id": "BWArIOKhf6hd"
      },
      "outputs": [],
      "source": [
        "# Use the merge() method to join the two dataframes.\n"
      ]
    },
    {
      "cell_type": "markdown",
      "metadata": {
        "id": "RBb-V0Ydf6hg"
      },
      "source": [
        "Calculate the urban and rural LST differences per day and store it into a new column:"
      ]
    },
    {
      "cell_type": "code",
      "execution_count": null,
      "metadata": {
        "id": "vbbHjqr9f6hh"
      },
      "outputs": [],
      "source": []
    },
    {
      "cell_type": "code",
      "source": [
        "# summarize our results\n"
      ],
      "metadata": {
        "id": "EuilfKN-rA38"
      },
      "execution_count": null,
      "outputs": []
    },
    {
      "cell_type": "code",
      "execution_count": null,
      "metadata": {
        "id": "weUbSEg4f6hi"
      },
      "outputs": [],
      "source": [
        "# Let's also plot how SUHII varies temporally\n"
      ]
    },
    {
      "cell_type": "markdown",
      "metadata": {
        "id": "fl-jl3UVf6hk"
      },
      "source": [
        "## Task 3: Calculate the Annual and Monthly Means"
      ]
    },
    {
      "cell_type": "code",
      "execution_count": null,
      "metadata": {
        "id": "nPWP9fXRf6hl"
      },
      "outputs": [],
      "source": [
        "# We will start with the annual means\n"
      ]
    },
    {
      "cell_type": "code",
      "source": [
        "# and continue with the monhtly means\n"
      ],
      "metadata": {
        "id": "3Bvpwa0KsoT8"
      },
      "execution_count": null,
      "outputs": []
    },
    {
      "cell_type": "markdown",
      "metadata": {
        "id": "vYphMmbDf6hl"
      },
      "source": [
        "### Task 4: Visualize the SUHII Hysteresis\n",
        "\n",
        "Let's try to visualize the time lag between rural LST and SUHI intensity for Mexico City."
      ]
    },
    {
      "cell_type": "code",
      "execution_count": null,
      "metadata": {
        "id": "7kYj6gKYf6ho"
      },
      "outputs": [],
      "source": [
        "# sort them according to month\n",
        "monthly_means.sort_values(by=[\"month\"], inplace=True)\n",
        "\n",
        "# close the loop\n",
        "means = monthly_means.append(monthly_means.iloc[0]) \n",
        "\n",
        "# Create a figure\n",
        "fig, ax = plt.subplots()\n",
        "\n",
        "sns.histplot(\n",
        "    data=df_mexcity,\n",
        "    x=\"lst_mean_rural\",\n",
        "    y=\"suhii\",\n",
        "    binwidth=[1, 0.5],\n",
        "    cmap=\"crest\",\n",
        "    ax=ax\n",
        ")\n",
        "\n",
        "# This code block is for plotting each line segment with a differnt color.\n",
        "pts = np.vstack([means[\"rural_mean\"].values, means[\"suhii_mean\"].values]).T \n",
        "pts_offset = np.roll(pts, 1, axis=0)\n",
        "segments = np.array([np.vstack([pts[i,:], pts_offset[i,:]]) for i in range(13)])\n",
        "dydx = np.linspace(0, 1, 11)\n",
        "norm = plt.Normalize(dydx.min(), dydx.max())\n",
        "cmap = sns.color_palette(\"ch:s=-.2,r=.6\", as_cmap=True)\n",
        "lc = LineCollection(segments, cmap=cmap, norm=norm, zorder=2)\n",
        "lc.set_array(dydx)\n",
        "lc.set_linewidth(5)\n",
        "line = ax.add_collection(lc)\n",
        "\n",
        "# Plot the monthly values\n",
        "ax.scatter(\n",
        "    means[\"rural_mean\"],\n",
        "    means[\"suhii_mean\"],\n",
        "    color=\"black\",\n",
        "    s=25,\n",
        "    marker=\"o\",\n",
        "    zorder=3,\n",
        ")\n",
        "\n",
        "ax.axhline(y=0, color=\"black\", ls=\"dashed\")\n",
        "\n",
        "ax.set_xlabel(\"Rural LST [K]\")\n",
        "ax.set_ylabel(\"SUHII [K]\")"
      ]
    },
    {
      "cell_type": "markdown",
      "source": [
        "## Task 5\n",
        "\n",
        "For this final task we will the monthly means I pre-calculates from our DB for almost 1500 cities around the globe.\n",
        "\n",
        "Our goal is to visualize the SUHII Seasonal hysteresis for all the densely-populated climate zones."
      ],
      "metadata": {
        "id": "J5WGVYy4V8iz"
      }
    },
    {
      "cell_type": "code",
      "source": [
        "# Let's start by making a function to retrieve these data:\n",
        "\n",
        "def get_monthy_means(climate: str):\n",
        "\n",
        "    filename = os.path.join(LST_DIR, \"SUHII_monthly_means.db\")\n",
        "    connection = sqlite3.connect(filename)\n",
        "\n",
        "    query = \"\"\"\n",
        "    SELECT data_day.UID, months_relative_to_SE, suhii_mean, rural_mean\n",
        "    FROM data_day \n",
        "    LEFT JOIN cities\n",
        "    ON data_day.UID=cities.UID\n",
        "    WHERE cities.climate=:climate_zone\n",
        "    \"\"\"\n",
        "\n",
        "    query_args = {\n",
        "        \"climate_zone\": climate,\n",
        "    }\n",
        "\n",
        "    data = pd.read_sql(\n",
        "        sql = query,\n",
        "        con = connection,\n",
        "        params = query_args,\n",
        "    )\n",
        "    \n",
        "    connection.close()\n",
        "\n",
        "    return data"
      ],
      "metadata": {
        "id": "XTYfUnehV87r"
      },
      "execution_count": null,
      "outputs": []
    },
    {
      "cell_type": "code",
      "source": [
        "# Let's visialize the data\n",
        "\n",
        "ZONES = [\n",
        "    \"Aw\",\n",
        "    \"BSh\",\n",
        "    \"BSk\",\n",
        "    \"Csa\",\n",
        "    \"Cwa\",\n",
        "    \"Cwb\",\n",
        "    \"Cfa\",\n",
        "    \"Cfb\",\n",
        "    \"Dwa\",\n",
        "    \"Dfa\",\n",
        "    \"Dfb\",\n",
        "]\n",
        "\n",
        "fig, axs = plt.subplots(ncols=4, nrows=3, figsize=(6.0, 4.5), sharex=True, sharey=True)\n",
        "\n",
        "axs = axs.flatten()\n",
        "axs[-1].remove()\n",
        "\n",
        "for i, (zone, ax) in enumerate(zip(ZONES, axs)):\n",
        "\n",
        "    loops_indiv_cities = get_monthy_means(zone)\n",
        "\n",
        "    for UID in loops_indiv_cities[\"UID\"].unique():\n",
        "\n",
        "        city_mask = loops_indiv_cities[\"UID\"] == UID\n",
        "        city_loop = loops_indiv_cities.loc[city_mask]\n",
        "        city_loop = city_loop.append(city_loop.iloc[0])  # close the loop\n",
        "\n",
        "        ax.plot(\n",
        "            city_loop[\"rural_mean\"],\n",
        "            city_loop[\"suhii_mean\"],\n",
        "            lw=1,\n",
        "            color=np.random.rand(3,), # color each loop with a random color\n",
        "            alpha = 0.35,\n",
        "            zorder=1,\n",
        "        )\n",
        "\n",
        "    ax.tick_params(labelsize=6, which=\"both\", width=0.5, length=2)\n",
        "    ax.set_title(f\"{zone}\", fontsize=7)\n",
        "\n",
        "    if i in [8, 9, 10]:\n",
        "        ax.set_xlabel(\"Rural LST [K]\", fontsize=7)\n",
        "\n",
        "    if i in [0, 4, 5]:\n",
        "        ax.set_ylabel(\"SUHII [K]\", fontsize=7)\n",
        "\n",
        "    for axis in ['top','bottom','left','right']:\n",
        "        ax.spines[axis].set_linewidth(0.7)\n",
        "        \n",
        "fig.tight_layout()\n",
        "plt.show()"
      ],
      "metadata": {
        "id": "204z9AZPaHts"
      },
      "execution_count": null,
      "outputs": []
    },
    {
      "cell_type": "markdown",
      "source": [
        "**Well done!**\n",
        "\n",
        "The results that you see here have been published in: https://doi.org/10.3390/rs14102318\n"
      ],
      "metadata": {
        "id": "LyLOe2R5dN_O"
      }
    }
  ],
  "metadata": {
    "interpreter": {
      "hash": "24884dc653aad3fc6282cf9cfa03657235f328a482dd6619321e3a3b26e9dedc"
    },
    "kernelspec": {
      "display_name": "Python 3 (ipykernel)",
      "language": "python",
      "name": "python3"
    },
    "language_info": {
      "codemirror_mode": {
        "name": "ipython",
        "version": 3
      },
      "file_extension": ".py",
      "mimetype": "text/x-python",
      "name": "python",
      "nbconvert_exporter": "python",
      "pygments_lexer": "ipython3",
      "version": "3.8.8"
    },
    "colab": {
      "provenance": [],
      "collapsed_sections": []
    }
  },
  "nbformat": 4,
  "nbformat_minor": 0
}