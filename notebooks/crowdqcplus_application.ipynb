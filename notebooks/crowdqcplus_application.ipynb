{
  "nbformat": 4,
  "nbformat_minor": 0,
  "metadata": {
    "colab": {
      "provenance": [],
      "collapsed_sections": []
    },
    "kernelspec": {
      "name": "python3",
      "display_name": "Python 3"
    },
    "language_info": {
      "name": "python"
    }
  },
  "cells": [
    {
      "cell_type": "markdown",
      "source": [
        "# CrowdQC+ hands-on\n",
        "\n",
        "Welcome to this hands-on on crowdsourced data from Crowd Weather Stations (CWS).\n",
        "\n",
        "We have compiled a data set of CWS data for a certain region and a specific time to illustrate some issues with crowdsourced CWS data of air-temperature.\n",
        "\n",
        "The goal is to apply the quality control (QC) package [CrowdQC+](https://github.com/dafenner/CrowdQCplus) to this data set to remove faulty values from it.\n",
        "\n",
        "The corresponding scientific paper [Fenner et al. 2021](https://doi.org/10.3389/fenvs.2021.720747) was published in the open-access journal Frontiers in Environmental Science.\n",
        "\n",
        "This exercise has the aims to:\n",
        "\n",
        "*   Explain how you can use R in this Python environment\n",
        "*   Provide hands-on experience with real crowdsourced CWS data\n",
        "*   Enable you to investigate issues with such data\n",
        "*   Explain how you can use CrowdQC+ to quality-control such data\n",
        "*   Do some first analyses with the quality-controlled data\n",
        "\n",
        "During the exercise (in this notebook), we have defined some tasks for you, that you can/should work on. \n",
        "\n",
        "**Tasks for you are marked in bold, like this line here.**\n",
        "\n",
        "Please let Jonas (Kittner) or Daniel (Fenner) know if something is not working or in case of any questions.\n",
        "\n",
        "******\n",
        "**Copyright: 2022, Daniel Fenner, Jonas Kittner**\n",
        "******\n",
        "\n",
        "Have fun!\n",
        "---\n",
        "\n",
        "---\n",
        "\n",
        "---\n"
      ],
      "metadata": {
        "id": "wHUyoNhnhqDr"
      }
    },
    {
      "cell_type": "markdown",
      "source": [
        "# Section 1: Preparing environment\n",
        "\n",
        "## Load drive"
      ],
      "metadata": {
        "id": "YJpXj7eo10w_"
      }
    },
    {
      "cell_type": "code",
      "execution_count": null,
      "metadata": {
        "id": "F1QqL3mZ0hys"
      },
      "outputs": [],
      "source": [
        "# First load your Google Drive.\n",
        "from google.colab import drive\n",
        "drive.mount('/content/drive', force_remount=True)\n",
        "\n",
        "# After mounting, check folders in left side-bar\n",
        "# If this code does not work, you can use the \"Mount Drive\" button in the left side-bar"
      ]
    },
    {
      "cell_type": "markdown",
      "source": [
        "\n",
        "\n",
        "---\n",
        "\n",
        "\n",
        "## Start R session in Python environment\n",
        "You can use the programming language [R](https://www.r-project.org/) is this Google Colab Python environment. All you need is the `rpy2.ipython` tool."
      ],
      "metadata": {
        "id": "T9N-ZJ3-14kR"
      }
    },
    {
      "cell_type": "code",
      "source": [
        "%load_ext rpy2.ipython"
      ],
      "metadata": {
        "id": "MuXeueMZ19yi"
      },
      "execution_count": null,
      "outputs": []
    },
    {
      "cell_type": "markdown",
      "source": [
        "Now, whenever you want R to be executed in a cell, add `%%R` at the beginning. Like so:"
      ],
      "metadata": {
        "id": "2FjvjvhY2NrC"
      }
    },
    {
      "cell_type": "code",
      "source": [
        "%%R\n",
        "x <- \"Welcome to the BUCSS CrowdQC+ hands-on\"\n",
        "print(x)"
      ],
      "metadata": {
        "id": "0q5N_Qjl2WFf"
      },
      "execution_count": null,
      "outputs": []
    },
    {
      "cell_type": "markdown",
      "source": [
        "You can also transfer variables from the R environment to Python, like so:"
      ],
      "metadata": {
        "id": "7E99uJEjkOxA"
      }
    },
    {
      "cell_type": "code",
      "source": [
        "x = %R x\n",
        "print(x)"
      ],
      "metadata": {
        "id": "aPDBRQOmkB1C"
      },
      "execution_count": null,
      "outputs": []
    },
    {
      "cell_type": "markdown",
      "source": [
        "CrowdQC+ is written in R, so you will mainly use R in this hands-on.\n",
        "\n",
        "At the end of the notebook and of this exercise you can play around with the data, either in R or in Python, whatever you prefer.\n",
        "\n",
        "During some of the steps Google Colab gives (cryptic) warnings. Generally, you can ignore them (unless somethings is not working 😉)."
      ],
      "metadata": {
        "id": "TN46STFu_MHn"
      }
    },
    {
      "cell_type": "markdown",
      "source": [
        "\n",
        "\n",
        "---\n",
        "\n",
        "\n",
        "## Set up directories\n",
        "\n",
        "**Task: Change the name variable (`YOUR_NAME`) to your specific folder in the next block of code before running it so that your figures and output go to the right place. You can leave the rest as it is.**"
      ],
      "metadata": {
        "id": "m2SIz-oQ1wjT"
      }
    },
    {
      "cell_type": "code",
      "source": [
        "%%R\n",
        "\n",
        "# Your own baseline directory - if mounted under MyDrive, do not change.\n",
        "BASE_DIR = \"/content/drive/MyDrive/BUCSS22/\"\n",
        "print(BASE_DIR)\n",
        "\n",
        "# Create a link to notebooks directory\n",
        "YOUR_NAME = \"Daniel_Lecturer\" # Name of your own folder, please adapt!\n",
        "NOTEBOOKS_DIR = paste0(BASE_DIR, YOUR_NAME, \"/\", \"notebooks/\")\n",
        "print(NOTEBOOKS_DIR)\n",
        "\n",
        "# Other relevant folders\n",
        "CWS_DIR        = paste0(BASE_DIR, \"DATA_SHARE\", \"/\", \"CWS/\")\n",
        "OUT_DIR        = paste0(BASE_DIR, YOUR_NAME, \"/\", \"output/\")\n",
        "FIG_DIR        = paste0(BASE_DIR, YOUR_NAME, \"/\", \"figures/\")\n",
        "print(CWS_DIR)\n",
        "print(OUT_DIR)\n",
        "print(FIG_DIR)"
      ],
      "metadata": {
        "id": "Y-PhUvDT1IYN"
      },
      "execution_count": null,
      "outputs": []
    },
    {
      "cell_type": "markdown",
      "source": [
        "\n",
        "\n",
        "---\n",
        "\n",
        "\n",
        "## Install CrowdQC+ package (including dependencies, plus other packages)\n",
        "This step might take 8-10 minutes (due to Google Colab, not the package 😀).\n",
        "\n",
        "Several warnings might be thrown, don't worry.\n",
        "\n",
        "In the meantime, why not checking out the [Github repo of CrowdQC+](https://github.com/dafenner/CrowdQCplus) or the [corresponding paper](https://www.frontiersin.org/articles/10.3389/fenvs.2021.720747/abstract) in another tab?!"
      ],
      "metadata": {
        "id": "9dvwldYMTqtS"
      }
    },
    {
      "cell_type": "code",
      "source": [
        "%%R\n",
        "install.packages(\"ggmap\")\n",
        "devtools::install_github(\"dafenner/CrowdQCplus\")"
      ],
      "metadata": {
        "id": "4B9enMl-4rJU"
      },
      "execution_count": null,
      "outputs": []
    },
    {
      "cell_type": "markdown",
      "source": [
        "Puh, finally... nearly ready to work with the data..."
      ],
      "metadata": {
        "id": "inzejkBC1qQy"
      }
    },
    {
      "cell_type": "markdown",
      "source": [
        "\n",
        "\n",
        "---\n",
        "\n",
        "\n",
        "## Load R libraries\n",
        "Some warnings might be thrown, don't worry about them here either."
      ],
      "metadata": {
        "id": "qmeyFsIWTmZj"
      }
    },
    {
      "cell_type": "code",
      "source": [
        "%%R\n",
        "library(lubridate)\n",
        "library(data.table)\n",
        "library(CrowdQCplus)\n",
        "library(ggplot2)\n",
        "library(ggmap)\n",
        "library(scales)\n",
        "library(sp)\n",
        "library(raster)"
      ],
      "metadata": {
        "id": "gZ8tuWn1S6qu"
      },
      "execution_count": null,
      "outputs": []
    },
    {
      "cell_type": "markdown",
      "source": [
        "Check CrowdQC+ version. Should be 1.0.1 or higher."
      ],
      "metadata": {
        "id": "J6L43DJ7I9ZV"
      }
    },
    {
      "cell_type": "code",
      "source": [
        "%%R\n",
        "packageVersion(\"CrowdQCplus\") "
      ],
      "metadata": {
        "id": "VTqEMkL7Fz0G"
      },
      "execution_count": null,
      "outputs": []
    },
    {
      "cell_type": "markdown",
      "source": [
        "\n",
        "\n",
        "---\n",
        "\n",
        "\n",
        "## Define a few generic functions for later\n",
        "No need to go throught the code yourself (unless you are interested)."
      ],
      "metadata": {
        "id": "WDs8EobM12Gv"
      }
    },
    {
      "cell_type": "code",
      "source": [
        "%%R\n",
        "\n",
        "# Get data at a certain QC level and retain only CWS with >= 1 valid data point\n",
        "get_level_data_clean <- function(data, var = \"ta\", qc_level = \"o3\") {\n",
        "  # make copy of data\n",
        "  buff_data <- copy(data)\n",
        "  \n",
        "  # Input checks. var = \"ta_int\" only meaningful for QC levels o1-o4\n",
        "  if(is.null(var)) ta_sel <- \"ta_int\" else ta_sel <- var\n",
        "  if(qc_level %in% c(\"raw\", \"m0\", \"m1\", \"m2\", \"m3\", \"m4\", \"m5\") & ta_sel == \"ta_int\") ta_sel <- \"ta\"\n",
        "  \n",
        "  # Set all entries of specified variable to NA at the specified QC level\n",
        "  if(!(qc_level == \"raw\") & !(qc_level == \"m0\")) {\n",
        "      buff_data <- buff_data[get(qc_level) == F, (var) := NA]\n",
        "  }\n",
        "  \n",
        "  # Identify and keep all data for CWS with not all entries = NA\n",
        "  not_all_na <- buff_data[, !(sum(is.na(get(var))) == .N), by = .(p_id)]\n",
        "  buff_data <- buff_data[p_id %in% not_all_na[not_all_na$V1, p_id], ]\n",
        "  \n",
        "  return(buff_data)\n",
        "}\n",
        "\n",
        "# Time-series plot of all CWS as thin lines and median as thick orange\n",
        "plot_time_series <- function(data, var = \"ta\", qc_level = \"o3\") {\n",
        "    \n",
        "  # check for \"time\"\n",
        "  if(\"time\" %in% colnames(data)) t <- \"time\" else t <- \"date\"\n",
        "\n",
        "  plot_data <- get_level_data_clean(data, var = var, qc_level = qc_level)\n",
        "\n",
        "  # calculate some statistics\n",
        "  stats_cws <- plot_data[, .(mean = mean(get(var), na.rm = T),\n",
        "                             median = median(get(var), na.rm = T), \n",
        "                             max  = max(get(var), na.rm = T), \n",
        "                             min  = min(get(var), na.rm = T)), keyby = t]\n",
        "\n",
        "  # set up plot\n",
        "  p <- ggplot(stats_cws, aes_string(x = t), na.rm = T) +\n",
        "       labs(x = \"time (UTC)\", y = \"ta (\\u00B0C)\", \n",
        "            title = paste0(\"QC level: \",qc_level,\", N_CWS = \", length(unique(plot_data$p_id)))) +\n",
        "       theme_bw() +\n",
        "       coord_cartesian(ylim = c(-10, 65), expand = T) +\n",
        "       scale_x_datetime(labels=date_format(\"%d-%m-%Y\"), breaks = \"1 day\") +\n",
        "       theme(panel.grid.major = element_blank(), panel.grid.minor = element_blank())\n",
        "\n",
        "  # plot individual CWS and median\n",
        "  p <- p + geom_line(data = plot_data, aes_string(x = t, y = var, group = \"id\"), na.rm = T, \n",
        "                       col = \"black\", alpha = 0.2, size = 0.1)\n",
        "  p <- p + geom_line(data = stats_cws, aes_string(x = t, y = \"median\"), na.rm = T, \n",
        "                       col = \"firebrick1\", size = 0.6)\n",
        "\n",
        "  # save image\n",
        "  out_file <- paste0(FIG_DIR, \"cws_time_series_\",qc_level,\".png\")\n",
        "  ggsave(filename = out_file, plot = p, \n",
        "         width = 25, height = 10, units = c(\"cm\"), dpi = 300)\n",
        "  print(paste0(\"Done! Image located here: \", out_file))\n",
        "  return(p)\n",
        "}\n"
      ],
      "metadata": {
        "id": "wQ3-emCC1802"
      },
      "execution_count": null,
      "outputs": []
    },
    {
      "cell_type": "markdown",
      "source": [
        "\n",
        "---\n",
        "\n",
        "\n",
        "---\n",
        "# Section 2: CWS data and preparation\n",
        "\n",
        "## Read CWS data and prepare for CrowdQC+\n",
        "Let's assume you have received the following file of CWS data from someone, you want to quality-control the data with the CrowdQC+ package, and then do some analyses.\n",
        "\n",
        "First, read the CWS data and get a glimpse on the data.\n",
        "\n",
        "**Task: Check the column names and think what they could mean.**"
      ],
      "metadata": {
        "id": "gkZKN-0oVvWy"
      }
    },
    {
      "cell_type": "code",
      "source": [
        "%%R\n",
        "data <- fread(paste0(CWS_DIR, \"cws_data_cqcp_hands_on.csv\"))\n",
        "head(data)"
      ],
      "metadata": {
        "id": "HN-HJKG-TWYf"
      },
      "execution_count": null,
      "outputs": []
    },
    {
      "cell_type": "markdown",
      "source": [
        "For further processing we assign the correct time format to the `date` column and order the table by each CWS, identified via unique `p_id` and `date`."
      ],
      "metadata": {
        "id": "P9ZdqlinD50i"
      }
    },
    {
      "cell_type": "code",
      "source": [
        "%%R\n",
        "data <- data[, date := as.POSIXct(date, tz = \"UTC\")]\n",
        "setkey(data, p_id, date)"
      ],
      "metadata": {
        "id": "FWgJzS5yEBuf"
      },
      "execution_count": null,
      "outputs": []
    },
    {
      "cell_type": "markdown",
      "source": [
        "\n",
        "**Task: Find out which geographical region the data cover. You can to this in Python or R, depending on your preference.**\n",
        "\n",
        "Below is an example in R, carry it out in case you have no other idea. ;-)\n"
      ],
      "metadata": {
        "id": "wfhdlrX5i2co"
      }
    },
    {
      "cell_type": "code",
      "source": [
        "%%R\n",
        "# Get unique locations\n",
        "cws_loc <- data[, .SD[1], .SDcols = c(\"lon\", \"lat\", \"lcz\"), by = p_id]\n",
        "\n",
        "# Background map\n",
        "back_map <- get_map(location = c(min(cws_loc$lon-0.025, na.rm = T), min(cws_loc$lat-0.0125, na.rm = T), \n",
        "                                 max(cws_loc$lon+0.025, na.rm = T), max(cws_loc$lat+0.0125, na.rm = T)),\n",
        "                    source = \"stamen\", maptype = \"toner\", force = FALSE, language = \"en-EN\")\n",
        "# Plotting\n",
        "m <- ggmap(back_map) +\n",
        "  geom_point(data = cws_loc, mapping = aes(x = lon, y = lat), na.rm = T, \n",
        "             inherit.aes = FALSE, alpha = .6, size = 2, colour = \"darkviolet\") +\n",
        "  labs(x = \"Longitude (° E)\", y = \"Latitude (° N)\", title = paste0(\"L0 (RAW), N_CWS = \", length(cws_loc$p_id)), \n",
        "       tag = \"Map tiles by Stamen Design, under CC BY 3.0.\\nData by OpenStreetMap, under ODbL.\") +\n",
        "  theme(plot.tag.position = c(0.85, 0.01), plot.tag = element_text(size = rel(0.7)))\n",
        "\n",
        "# Saving\n",
        "ggsave(filename = paste0(FIG_DIR, \"cws_locations_map.png\"), plot = m, width = 21, height = 19, units = c(\"cm\"), dpi = 300)\n",
        "m"
      ],
      "metadata": {
        "id": "4sYxzKDwkhLa"
      },
      "execution_count": null,
      "outputs": []
    },
    {
      "cell_type": "markdown",
      "source": [
        "Ideas?"
      ],
      "metadata": {
        "id": "kJJ04ZMpBJx_"
      }
    },
    {
      "cell_type": "markdown",
      "source": [
        "\n",
        "\n",
        "---\n",
        "\n",
        "## Plot data and investigate problems with CWS air-temperature data\n",
        "Let's look at the data set now, i.e., what time period it covers, how the air temperature was, etc."
      ],
      "metadata": {
        "id": "VxcYAozFOLZU"
      }
    },
    {
      "cell_type": "code",
      "source": [
        "%%R\n",
        "# specify what to plot in the first section\n",
        "# ++++++\n",
        "plot_variable <- \"ta\"\n",
        "qc_level      <- \"raw\"\n",
        "# ++++++\n",
        "\n",
        "# Now plotting\n",
        "plot_time_series(data, var = plot_variable, qc_level = qc_level)"
      ],
      "metadata": {
        "id": "BYN9Tv6K-Pdt"
      },
      "execution_count": null,
      "outputs": []
    },
    {
      "cell_type": "markdown",
      "source": [
        "**Task: Investigate the time series plot.** *(You can also open the file with higher resolution in the respective folder. Exact location is given above the plot.)*\n",
        "\n",
        "**Task: Identify typical errors or unusual things in the CWS time series of air temperature. You can note them down here:** *(double-click in this field to edit)*\n",
        "- incomplete time series\n",
        "- very high values (radiation error)\n",
        "- indoor stations\n",
        "- ..."
      ],
      "metadata": {
        "id": "U6qS_qN2ch7b"
      }
    },
    {
      "cell_type": "markdown",
      "source": [
        "\n",
        "\n",
        "---\n",
        "Now you have identified typical errors and issues you find in crowdsourced CWS data of air temperature, you want to get rid of those before analysing.\n",
        "Let's check whether the data table is in the correct format for CrowdQC+ and whether all requirements for the package are met with the function `cqcp_check_input`.\n",
        "\n",
        "The functions carries out five main checks regarding \n",
        "\n",
        "1. presence and correct names of the data columns\n",
        "2. sufficient length of time period\n",
        "3. regularity of time series of each CWS\n",
        "4. geographical extent of data not too large\n",
        "5. suitable number of CWS for the QC\n",
        "\n",
        "Warnings in red prevent the QC from execution, warnings in yellow give indications that something might not be ideal.\n"
      ],
      "metadata": {
        "id": "yijvup_nBHve"
      }
    },
    {
      "cell_type": "code",
      "source": [
        "%%R\n",
        "ok <- cqcp_check_input(data)"
      ],
      "metadata": {
        "id": "9ky3NG3iBr1J"
      },
      "execution_count": null,
      "outputs": []
    },
    {
      "cell_type": "markdown",
      "source": [
        "Seems that something is not correct with the data. We are apparently missing a required data column.\n",
        "\n",
        "**Task: Find out which column is missing, check how the problem can be resolved, and resolve it.**\n",
        "\n",
        "*Hint: Renaming columns can easily be done with* `setnames(data, old = \"XYZ\", new = \"ABC\")`"
      ],
      "metadata": {
        "id": "exo9jBaVEpGB"
      }
    },
    {
      "cell_type": "code",
      "source": [
        "%%R\n",
        "setnames(data, old = \"date\", new = \"time\")\n",
        "setnames(data, old = \"alt\", new = \"z\")"
      ],
      "metadata": {
        "id": "4cOAF5rsCTay"
      },
      "execution_count": null,
      "outputs": []
    },
    {
      "cell_type": "markdown",
      "source": [
        "Now, let's check again:"
      ],
      "metadata": {
        "id": "Xw0S7cD3Jdu1"
      }
    },
    {
      "cell_type": "code",
      "source": [
        "%%R\n",
        "ok <- cqcp_check_input(data)"
      ],
      "metadata": {
        "id": "39hbBAoYCq68"
      },
      "execution_count": null,
      "outputs": []
    },
    {
      "cell_type": "markdown",
      "source": [
        "You can also add information on the elevation of each station with the package. This is useful for some of the QC levels, to account for elevation differences and make air-temperature data more comparable.\n",
        "\n",
        "You can let CrowdQC+ automatically download DEM data (Digital Elevation Model) from the web, or you can give a Geotiff or R Raster Layer object with DEM information. This is handled by `cqcp_add_dem_height`.\n",
        "\n",
        "In our case, we actually have the information already, we just need to name the column correctly. But maybe you have spotted that already?!\n",
        "\n",
        "**Task: Rename the column with elevation information as required by CrowdQC+.**"
      ],
      "metadata": {
        "id": "7gbN0jNEJkty"
      }
    },
    {
      "cell_type": "code",
      "source": [
        "%%R\n",
        "setnames(data, old = \"ABC\", new = \"XYZ\")"
      ],
      "metadata": {
        "id": "bR3eijYlKhDS"
      },
      "execution_count": null,
      "outputs": []
    },
    {
      "cell_type": "markdown",
      "source": [
        "Check again:"
      ],
      "metadata": {
        "id": "IKuAZUg6LIAr"
      }
    },
    {
      "cell_type": "code",
      "source": [
        "%%R\n",
        "ok <- cqcp_check_input(data)"
      ],
      "metadata": {
        "id": "6UB1IOH9LG8L"
      },
      "execution_count": null,
      "outputs": []
    },
    {
      "cell_type": "markdown",
      "source": [
        "Looks like everything is in order now."
      ],
      "metadata": {
        "id": "Ga2YWWQ7C5Df"
      }
    },
    {
      "cell_type": "markdown",
      "source": [
        "\n",
        "---\n",
        "\n",
        "\n",
        "---\n",
        "# Section 3: CrowdQC+\n",
        "## Application of CrowdQC+\n",
        "\n",
        "Let's carry out CrowdQC+. CrowdQC+ consists of five main QC levels m1-m5 and four optional QC levels o1-o4.\n",
        "\n",
        "Each QC level addresses specific issues in the data.\n",
        "\n",
        "During each QC level, an additional column is added to the data table. The new column is named as the QC level and contains only TRUE and FALSE flag values:\n",
        "\n",
        "*   TRUE = value in row passed this QC level\n",
        "*   FALSE = value in row did not pass this QC level\n",
        "\n",
        "In subsequent QC levels only those values are considered that were flagged as TRUE in the previous level.\n",
        "\n",
        "---\n",
        "\n",
        "### QC level m1\n",
        "This level addresses those CWS, that have identical geographical coordinates. This is common for some types of CWS that automatically receive a geographical position as soon as they are online, based on the IP address. In case the user doesn't set a proper location, that location is kept."
      ],
      "metadata": {
        "id": "RGq2C_w6MHxE"
      }
    },
    {
      "cell_type": "code",
      "source": [
        "%%R\n",
        "# make a copy of the data, just to keep the original\n",
        "data_qc <- copy(data)\n",
        "\n",
        "# QC level m1\n",
        "data_qc <- cqcp_m1(data_qc, cutOff = 1) # parameter 'cutOff' specifies how many CWS can have identical lat/lon values."
      ],
      "metadata": {
        "id": "mgJcb3Swkm01"
      },
      "execution_count": null,
      "outputs": []
    },
    {
      "cell_type": "markdown",
      "source": [
        "You can investigate the effect of the QC level on data availability:"
      ],
      "metadata": {
        "id": "BsqMcNBrlG09"
      }
    },
    {
      "cell_type": "code",
      "source": [
        "%%R\n",
        "ok <- cqcp_output_statistics(data_qc)"
      ],
      "metadata": {
        "id": "adFzIxCylKWd"
      },
      "execution_count": null,
      "outputs": []
    },
    {
      "cell_type": "markdown",
      "source": [
        "You can see that quite a few CWS had identical locations.\n",
        "\n",
        "You can also plot the data, again as time series:"
      ],
      "metadata": {
        "id": "lwmgD_EYlNiG"
      }
    },
    {
      "cell_type": "code",
      "source": [
        "%%R\n",
        "# Specify what to plot in the first section\n",
        "# ++++++\n",
        "plot_variable <- \"ta\"\n",
        "qc_level      <- \"m1\"\n",
        "# ++++++\n",
        "\n",
        "# Now plotting\n",
        "plot_time_series(data_qc, var = plot_variable, qc_level = qc_level)"
      ],
      "metadata": {
        "id": "bKpYmlIVlQq8"
      },
      "execution_count": null,
      "outputs": []
    },
    {
      "cell_type": "markdown",
      "source": [
        "### QC level m2\n",
        "\n",
        "This is the main QC level.\n",
        "\n",
        "Here, it is assumed that at each point in time the data is a distribution of individual values. It is assumed that the (large) crowd of CWS contains useful data and all values that deviate too much from the majority of CWS are flagged as FALSE. Hence, the more CWS you have, the more robust this QC level is (\"wisdom of the crowd\").\n",
        "\n",
        "The thresholds for the cutoff values are specified by the parameters `low` and `high`.\n",
        "\n",
        "In this level, all data are first converted to a reference height so that air-temperature values are comparable.\n",
        "\n",
        "For information on all parameters you can use the help with `?cqcp_m2`"
      ],
      "metadata": {
        "id": "VRwbyBeUldfJ"
      }
    },
    {
      "cell_type": "code",
      "source": [
        "%%R\n",
        "?cqcp_m2"
      ],
      "metadata": {
        "id": "hLAYhYI6n_vy"
      },
      "execution_count": null,
      "outputs": []
    },
    {
      "cell_type": "code",
      "source": [
        "%%R\n",
        "# QC level m2\n",
        "data_qc <- cqcp_m2(data_qc, low = 0.01, high = 0.95, heightCorrection = TRUE, \n",
        "                   lapse_rate = 0.0065, t_distribution = FALSE)\n",
        "\n",
        "# Statistics\n",
        "ok <- cqcp_output_statistics(data_qc)\n",
        "\n",
        "# Plotting\n",
        "plot_time_series(data_qc, var = \"ta\", qc_level = \"m2\")"
      ],
      "metadata": {
        "id": "U6EmA_dIlk8e"
      },
      "execution_count": null,
      "outputs": []
    },
    {
      "cell_type": "markdown",
      "source": [
        "You can play around with the parameters in `cqcp_m2` in the code section below and re-run it. Then investigate the effect of the QC level on data availability and the actual data."
      ],
      "metadata": {
        "id": "zt28iwvXEYJX"
      }
    },
    {
      "cell_type": "code",
      "source": [
        "%%R\n",
        "# QC level m2\n",
        "data_qc <- cqcp_m2(data_qc, low = 0.01, high = 0.95, heightCorrection = TRUE, \n",
        "                   lapse_rate = 0.0065, t_distribution = FALSE)\n",
        "\n",
        "# Statistics\n",
        "ok <- cqcp_output_statistics(data_qc)\n",
        "\n",
        "# Plotting\n",
        "plot_time_series(data_qc, var = \"ta\", qc_level = \"m2\")"
      ],
      "metadata": {
        "id": "-FacJqJxEuuZ"
      },
      "execution_count": null,
      "outputs": []
    },
    {
      "cell_type": "markdown",
      "source": [
        "---\n",
        "### QC level m3\n",
        "\n",
        "This QC level flags all CWS that are too suspicious to be kept, i.e., it flags those CWS that received too many FALSE flags in QC level m2.\n",
        "\n",
        "The check is done on a monthly basis per default, but could be set to any specified duration (parameter `duration`). Alternatively, you can use the complete time series, as in our case here:"
      ],
      "metadata": {
        "id": "U-Z5A1cVoam_"
      }
    },
    {
      "cell_type": "code",
      "source": [
        "%%R\n",
        "# QC level m3\n",
        "data_qc <- cqcp_m3(data_qc, cutOff = 0.2, complete = TRUE, duration = NULL)\n",
        "\n",
        "# Statistics\n",
        "ok <- cqcp_output_statistics(data_qc)\n",
        "\n",
        "# Plotting\n",
        "plot_time_series(data_qc, var = \"ta\", qc_level = \"m3\")"
      ],
      "metadata": {
        "id": "zJfIK5Ayowgb"
      },
      "execution_count": null,
      "outputs": []
    },
    {
      "cell_type": "markdown",
      "source": [
        "Notice that overall data availability has not dropped a lot but quite a few stations were removed."
      ],
      "metadata": {
        "id": "5hRsNyIZFJlR"
      }
    },
    {
      "cell_type": "markdown",
      "source": [
        "---\n",
        "### QC level m4\n",
        "\n",
        "QC level m4 mainly addresses CWS that were set up indoors. Those stations have a distinctly different evolution of air temperature compared to CWS located outdoors.\n",
        "\n",
        "A temporal correlation is carried out to separate those CWS deviating too much from the median of all CWS. This should be done for the same time span as used in QC level m3."
      ],
      "metadata": {
        "id": "oJ4Rvk0IpVPI"
      }
    },
    {
      "cell_type": "code",
      "source": [
        "%%R\n",
        "# QC level m4\n",
        "data_qc <- cqcp_m4(data_qc, cutOff = 0.9, complete = TRUE, duration = NULL)\n",
        "\n",
        "# Statistics\n",
        "ok <- cqcp_output_statistics(data_qc)\n",
        "\n",
        "# Plotting\n",
        "plot_time_series(data_qc, var = \"ta\", qc_level = \"m4\")"
      ],
      "metadata": {
        "id": "3oYsCZUTp9FH"
      },
      "execution_count": null,
      "outputs": []
    },
    {
      "cell_type": "markdown",
      "source": [
        "---\n",
        "### QC level m5\n",
        "\n",
        "This QC level is a spatial buddy check and flags all values that are too different compared to spatially neighbouring stations, called \"buddies\" (spatial outlier filter). The idea is that again a larger group of CWS within a geographical region (here, a radius around each CWS) contains the \"true\" signal and CWS that deviate too much from that are flagged.\n",
        "\n",
        "A minimum number of buddies within the specified radius around each CWS has to be present for the calculations, thus this QC level also flags isolated stations. \n",
        "\n",
        "In addition to flag variable `m5` another column `isolated` is added to the data table with FALSE and TRUE, if stations have >=\"n_buddies\" within \"radius\" or not, respectively.\n",
        "\n",
        "For further reading on this level and to understand all parameters, please check the help with `?qcqc_m5`.\n"
      ],
      "metadata": {
        "id": "pa4nRTsvqRy_"
      }
    },
    {
      "cell_type": "code",
      "source": [
        "%%R\n",
        "# QC level m5\n",
        "data_qc <- cqcp_m5(data_qc, radius = 3000, n_buddies = 5, alpha = 0.1, \n",
        "                   heightCorrection = TRUE, lapse_rate = 0.0065,\n",
        "                   check_elevation = TRUE, max_elev_diff = 100,\n",
        "                   keep_isolated = FALSE)\n",
        "\n",
        "# Statistics\n",
        "ok <- cqcp_output_statistics(data_qc)\n",
        "\n",
        "# Plotting\n",
        "plot_time_series(data_qc, var = \"ta\", qc_level = \"m5\")"
      ],
      "metadata": {
        "id": "TtDz8ww0rCx0"
      },
      "execution_count": null,
      "outputs": []
    },
    {
      "cell_type": "markdown",
      "source": [
        "Again, you can modify the parameters in `cqcp_m5` in the code section below and re-run it. Then investigate the effect of the QC level on data availability and the actual data."
      ],
      "metadata": {
        "id": "1zhgnzrZGFdO"
      }
    },
    {
      "cell_type": "code",
      "source": [
        "%%R\n",
        "# QC level m5\n",
        "data_qc <- cqcp_m5(data_qc, radius = 3000, n_buddies = 5, alpha = 0.1, \n",
        "                   heightCorrection = TRUE, lapse_rate = 0.0065,\n",
        "                   check_elevation = TRUE, max_elev_diff = 100,\n",
        "                   keep_isolated = TRUE)\n",
        "\n",
        "# Statistics\n",
        "ok <- cqcp_output_statistics(data_qc)\n",
        "\n",
        "# Plotting\n",
        "plot_time_series(data_qc, var = \"ta\", qc_level = \"m5\")"
      ],
      "metadata": {
        "id": "DKtrgeFtGOzn"
      },
      "execution_count": null,
      "outputs": []
    },
    {
      "cell_type": "markdown",
      "source": [
        "---\n",
        "### QC level o1\n",
        "\n",
        "This is the first optional QC level and does not remove/flag any values. It is a temporal interpolation to increase data availability. Per default, only gaps of one missing value are interpolated per CWS (could be changed)."
      ],
      "metadata": {
        "id": "r74sAQ4jr4Ay"
      }
    },
    {
      "cell_type": "code",
      "source": [
        "%%R\n",
        "# QC level o1\n",
        "data_qc <- cqcp_o1(data_qc)\n",
        "\n",
        "# Statistics\n",
        "ok <- cqcp_output_statistics(data_qc)\n",
        "\n",
        "# Plotting\n",
        "plot_time_series(data_qc, var = \"ta_int\", qc_level = \"o1\")"
      ],
      "metadata": {
        "id": "2nAvRieosOu4"
      },
      "execution_count": null,
      "outputs": []
    },
    {
      "cell_type": "markdown",
      "source": [
        "You can notice that data availability increased due to the temporal interpolation."
      ],
      "metadata": {
        "id": "aJMufdajspRn"
      }
    },
    {
      "cell_type": "markdown",
      "source": [
        "---\n",
        "### QC level o2\n",
        "This QC level checks for data availability per CWS per calendar day and flags all values per CWS and calendar day as FALSE if too many missing values are present (default: 80 % of valid data must be present)."
      ],
      "metadata": {
        "id": "qiKSA_TtsvDo"
      }
    },
    {
      "cell_type": "code",
      "source": [
        "%%R\n",
        "# QC level o2\n",
        "data_qc <- cqcp_o2(data_qc, cutOff = 0.8)\n",
        "\n",
        "# Statistics\n",
        "ok <- cqcp_output_statistics(data_qc)\n",
        "\n",
        "# Plotting\n",
        "plot_time_series(data_qc, var = \"ta_int\", qc_level = \"o2\")"
      ],
      "metadata": {
        "id": "P2KPHJCXtGTA"
      },
      "execution_count": null,
      "outputs": []
    },
    {
      "cell_type": "markdown",
      "source": [
        "---\n",
        "### QC level o3\n",
        "\n",
        "As for QC level o2, this level checks for data availability. This time, the check is carried out per month or for the specified duration (as in m3 and m4)."
      ],
      "metadata": {
        "id": "ZAKM_PW9tW9h"
      }
    },
    {
      "cell_type": "code",
      "source": [
        "%%R\n",
        "# QC level o3\n",
        "data_qc <- cqcp_o3(data_qc, cutOff = 0.8, complete = TRUE, duration = NULL)\n",
        "\n",
        "# Statistics\n",
        "ok <- cqcp_output_statistics(data_qc)\n",
        "\n",
        "# Plotting\n",
        "plot_time_series(data_qc, var = \"ta_int\", qc_level = \"o3\")"
      ],
      "metadata": {
        "id": "_BeW51AOtl75"
      },
      "execution_count": null,
      "outputs": []
    },
    {
      "cell_type": "markdown",
      "source": [
        "You can notice the drop in data availability after QC levels o2 and o3. Per default, those levels are quite strict and not always relevant. This depends on the application of CWS data. "
      ],
      "metadata": {
        "id": "v66tyCMctvdN"
      }
    },
    {
      "cell_type": "markdown",
      "source": [
        "---\n",
        "### QC level o4\n",
        "\n",
        "QC level o4 implements a temporal data correction that could be necessary for sensors with a slow thermal response time. All data are corrected for a known time constant of the sensor. \n",
        "\n",
        "As this correction is applied to all CWS, the time constant must also be the same for all CWS in the data set.\n",
        "\n",
        "The correction is applied to the original data and a new column is added (`ta_corr`). No further column with flag values is added.\n",
        "\n",
        "We will use the time constant published by [Coney et al. 2022](https://doi.org/10.1002/met.2075): 12.7 minutes = 762 seconds\n",
        "\n",
        "Such a temporal correction is less relevant if you deal with hourly data (as in this example). For higher resolution analyses with, e.g., 5-minute data, it is of higher relevance."
      ],
      "metadata": {
        "id": "W7V71DLluAqI"
      }
    },
    {
      "cell_type": "code",
      "source": [
        "%%R\n",
        "# QC level o4\n",
        "data_qc <- cqcp_o4(data_qc, 762)"
      ],
      "metadata": {
        "id": "Xau4KeoZui_q"
      },
      "execution_count": null,
      "outputs": []
    },
    {
      "cell_type": "markdown",
      "source": [
        "---\n",
        "If you wanted the whole QC carried out at once, you could also do this:"
      ],
      "metadata": {
        "id": "tOu89u_koMQg"
      }
    },
    {
      "cell_type": "code",
      "source": [
        "%%R\n",
        "data_qc <- cqcp_qcCWS(data, complete = TRUE)"
      ],
      "metadata": {
        "id": "5Vg1Kmibe4OC"
      },
      "execution_count": null,
      "outputs": []
    },
    {
      "cell_type": "markdown",
      "source": [
        "Let's save the quality-controlled data:"
      ],
      "metadata": {
        "id": "1Mhx1GBnKc7l"
      }
    },
    {
      "cell_type": "code",
      "source": [
        "%%R\n",
        "fwrite(data_qc, file = paste0(OUT_DIR, \"cws_data_cqcp_hands_on_QC.csv\"), sep = \",\")"
      ],
      "metadata": {
        "id": "xImyLeGGKgF2"
      },
      "execution_count": null,
      "outputs": []
    },
    {
      "cell_type": "markdown",
      "source": [
        "\n",
        "\n",
        "---\n",
        "## Output statistics and plotting\n",
        "\n",
        "The following two blocks of code are the same as above, for investigating some basic statistics and for plotting. You can use them in case you want to investigate and/or plot again."
      ],
      "metadata": {
        "id": "JQjzmBPaEnJU"
      }
    },
    {
      "cell_type": "code",
      "source": [
        "%%R\n",
        "ok <- cqcp_output_statistics(data_qc)"
      ],
      "metadata": {
        "id": "Pf3ppdgYfFGg"
      },
      "execution_count": null,
      "outputs": []
    },
    {
      "cell_type": "code",
      "source": [
        "%%R\n",
        "# Specify what to plot in the first section\n",
        "# ++++++\n",
        "plot_variable <- \"ta_int\" # \"ta\" or \"ta_int\" (\"ta_int\" is only available after QC levels o1, o2, o3)\n",
        "qc_level      <- \"o1\" # any one from: \"raw\", \"m1\", \"m2\", \"m3\", \"m4\", \"m5\", \"o1\", \"o2\", \"o3\"\n",
        "# ++++++\n",
        "\n",
        "# Now plotting\n",
        "plot_time_series(data_qc, var = plot_variable, qc_level = qc_level)"
      ],
      "metadata": {
        "id": "TelBgYKKDenC"
      },
      "execution_count": null,
      "outputs": []
    },
    {
      "cell_type": "markdown",
      "source": [
        "---\n",
        "---\n",
        "# Section 4: Application\n",
        "\n",
        "The following section contains several examples what you could do with the data.\n",
        "\n",
        "You can follow along or explore the quality-controlled data set by yourself. For that, you can use R or Python, whatever you prefer.\n",
        "\n",
        "---\n",
        "## LCZ-based analyses"
      ],
      "metadata": {
        "id": "hkAJMRJvJuBh"
      }
    },
    {
      "cell_type": "code",
      "source": [
        "%%R\n",
        "# Get the quality-controlled data at level o1 for further analyses. Choose whichever level you want.\n",
        "data_cws <- get_level_data_clean(data_qc, var = \"ta_int\", qc_level = \"o1\")"
      ],
      "metadata": {
        "id": "e-UVdjgV78YO"
      },
      "execution_count": null,
      "outputs": []
    },
    {
      "cell_type": "markdown",
      "source": [
        "Load a [Local Climate Zone](https://doi.org/10.1175/BAMS-D-11-00019.1) (LCZ) map.\n",
        "The map is part of the global LCZ map by [Demuzere et al. 2022](https://doi.org/10.5194/essd-14-3835-2022)."
      ],
      "metadata": {
        "id": "gfSjGcb4DX_R"
      }
    },
    {
      "cell_type": "code",
      "source": [
        "%%R\n",
        "# load LCZ for background\n",
        "f_lcz <- paste0(BASE_DIR, \"DATA_SHARE/WRF/INPUT/global_lcz_filter_v1_ruhrarea.tif\")\n",
        "lcz_map <- raster(f_lcz)\n",
        "\n",
        "# crop to relevant extent\n",
        "xlim <- c(min(data_cws$lon-0.1, na.rm = T), max(data_cws$lon+0.1, na.rm = T))\n",
        "ylim <- c(min(data_cws$lat-0.1, na.rm = T), max(data_cws$lat+0.1, na.rm = T))\n",
        "\n",
        "# crop\n",
        "ext <- as(extent(xlim[1], xlim[2], ylim[1], ylim[2]), 'SpatialPolygons')\n",
        "crs(ext) <- \"+proj=longlat +datum=WGS84 +no_defs\"\n",
        "lcz_map <- crop(lcz_map, ext)"
      ],
      "metadata": {
        "id": "YhtsZaNP-A2L"
      },
      "execution_count": null,
      "outputs": []
    },
    {
      "cell_type": "markdown",
      "source": [
        "Plot all CWS on a LCZ map"
      ],
      "metadata": {
        "id": "8ykZFSPMDcxS"
      }
    },
    {
      "cell_type": "code",
      "source": [
        "%%R\n",
        "# Get unique locations\n",
        "cws_loc <- data_cws[, .SD[1], .SDcols = c(\"lon\", \"lat\", \"z\", \"lcz\"), by = p_id]\n",
        "\n",
        "# ggmap preparation\n",
        "r_points = rasterToPoints(lcz_map)\n",
        "r_dt = data.table(r_points)\n",
        "setnames(r_dt, old = paste0(\"global_lcz_filter_v1_ruhrarea\"), new = \"lcz\")\n",
        "r_dt <- r_dt[lcz > 0]\n",
        "\n",
        "# colours and names for map \n",
        "lcz_colors <- c(\"1\" = \"#8C0000\", \"2\" = \"#D10000\", \"3\" = \"#FF0000\", \"4\" = \"#BF4D00\", \n",
        "                \"5\" = \"#FF6600\", \"6\" = \"#FF9955\", \"7\" = \"#FAEE05\", \"8\" = \"#BCBCBC\",\n",
        "                \"9\" = \"#FFCCAA\", \"10\" = \"#555555\",\n",
        "                \"11\" = \"#006A00\", \"12\" = \"#00AA00\", \"13\" = \"#648525\", \"14\" = \"#B9DB79\",\n",
        "                \"15\" = \"#000000\", \"16\" = \"#FBF7AE\", \"17\" = \"#6A6AFF\")\n",
        "    \n",
        "lcz_names = c(\"1\" = \"1\", \"2\" = \"2\", \"3\" = \"3\", \"4\" = \"4\", \"5\" = \"5\", \n",
        "              \"6\" = \"6\", \"7\" = \"7\", \"8\" = \"8\",\"9\" = \"9\", \"10\" = \"10\",\n",
        "              \"11\" = \"A\", \"12\" = \"B\", \"13\" = \"C\", \"14\" = \"D\",\n",
        "              \"15\" = \"E\", \"16\" = \"F\", \"17\" = \"G\")\n",
        "  \n",
        "# plot limits\n",
        "xlim <- c(min(cws_loc$lon-0.025, na.rm = T), max(cws_loc$lon+0.025, na.rm = T))\n",
        "ylim <- c(min(cws_loc$lat-0.0125, na.rm = T), max(cws_loc$lat+0.0125, na.rm = T))\n",
        "  \n",
        "# plot\n",
        "p <- ggplot() + geom_raster(data=r_dt, aes(x = x, y = y, fill = factor(lcz))) +\n",
        "    theme_bw() +\n",
        "    geom_point(data = cws_loc, aes(x = lon, y = lat), inherit.aes = FALSE, \n",
        "               alpha = .6, size = 2, colour = \"darkviolet\") +\n",
        "    coord_quickmap(xlim = xlim, ylim = ylim, expand = F) +\n",
        "    theme(panel.grid.major = element_blank(), legend.key = element_rect(color = \"black\")) +\n",
        "    labs(x = \"Longitude (\\u00B0 E)\", y = \"Latitude (\\u00B0 N)\", \n",
        "         title = paste0(\"Level: o1, N_CWS = \", length(cws_loc$p_id)))\n",
        "  \n",
        "p <- p + scale_fill_manual(values = lcz_colors, name = \"LCZ\", labels = lcz_names)\n",
        "\n",
        "# Saving\n",
        "ggsave(filename = paste0(FIG_DIR, \"cws_locations_map_lcz_o1.png\"), plot = p, width = 21, \n",
        "       height = 17, units = c(\"cm\"), dpi = 300)\n",
        "p"
      ],
      "metadata": {
        "id": "2y2FRW1J6Tsr"
      },
      "execution_count": null,
      "outputs": []
    },
    {
      "cell_type": "markdown",
      "source": [
        "You can also investigate the distribution of CWS among LCZ. Above each bar the number of CWS and the respective percentage is shown."
      ],
      "metadata": {
        "id": "sJ3Vg1O8BY08"
      }
    },
    {
      "cell_type": "code",
      "source": [
        "%%R\n",
        "pct_format = scales::percent_format(accuracy = .1)\n",
        "# Plotting\n",
        "p <- ggplot(cws_loc, aes(x = factor(lcz), fill = factor(lcz))) + \n",
        "     geom_bar(stat = \"count\") +\n",
        "     labs(x = \"Local Climate Zone\", y = \"Number of CWS (count)\", \n",
        "         title = paste0(\"Level: o1, N_CWS = \", length(cws_loc$p_id))) +\n",
        "     theme_bw() +\n",
        "     scale_x_discrete(labels = lcz_names) +\n",
        "     theme(panel.grid.major = element_blank(), panel.grid.minor = element_blank(),\n",
        "           legend.position = \"none\") +\n",
        "     coord_cartesian(ylim = c(0, 520), expand = T) +\n",
        "     scale_fill_manual(values = lcz_colors) +\n",
        "     geom_text(aes(label = sprintf(\"%d\\n(%s)\", ..count.., pct_format( ..count.. / sum(..count..)))), \n",
        "               stat = \"count\", colour = \"black\", size = 3, vjust=-0.5)\n",
        "\n",
        "# Saving\n",
        "ggsave(filename = paste0(FIG_DIR, \"cws_distribution_per_lcz_o1.png\"), plot = p, width = 21, \n",
        "       height = 15, units = c(\"cm\"), dpi = 300)\n",
        "p"
      ],
      "metadata": {
        "id": "EaeJ0-zlMWhk"
      },
      "execution_count": null,
      "outputs": []
    },
    {
      "cell_type": "markdown",
      "source": [
        "You can notice that the vast majority of the (quality-controlled) CWS are located in built environments. This is somewhat expected, since CWS are located where people live.\n",
        "\n",
        "**Task: What is the number and percentage of CWS among 'built' and 'natural' LCZ?**\n",
        "\n",
        "One possible solution:"
      ],
      "metadata": {
        "id": "-ZUPYLXGRyDP"
      }
    },
    {
      "cell_type": "code",
      "source": [
        "%%R\n",
        "# add new column to the data.table, maybe useful for later\n",
        "data_cws <- data_cws[lcz <= 10, lcz_type := \"built\"] # all built LCZ\n",
        "data_cws <- data_cws[lcz >= 11, lcz_type := \"natural\"] # all natural LCZ\n",
        "\n",
        "cws_loc <- data_cws[, .SD[1], .SDcols = c(\"lon\", \"lat\", \"z\", \"lcz\", \"lcz_type\"), by = p_id]\n",
        "cws_loc[, .(count = .N, percentage = (.N/length(cws_loc$p_id)*100)), by = lcz_type]"
      ],
      "metadata": {
        "id": "8ltbe6WVSK8m"
      },
      "execution_count": null,
      "outputs": []
    },
    {
      "cell_type": "markdown",
      "source": [
        "Plot median air-temperature over built and natural LCZ as time series"
      ],
      "metadata": {
        "id": "_wyvA43JXeQy"
      }
    },
    {
      "cell_type": "code",
      "source": [
        "%%R\n",
        "# Aggregation\n",
        "summary <- data_cws[, .(median = median(ta_int, na.rm = T)), keyby = c(\"time\", \"lcz_type\")]\n",
        "\n",
        "# Plotting\n",
        "p <- ggplot(summary, aes(x = time, y = median, group = lcz_type), na.rm = T) +\n",
        "     geom_line(aes(color=lcz_type)) +\n",
        "     labs(x = \"time (UTC)\", y = \"ta (\\u00B0C)\", title = paste0(\"QC level: o1\"), color = \"LCZ type\") +\n",
        "     theme_bw() +\n",
        "     coord_cartesian(ylim = c(10, 45), expand = T) +\n",
        "     scale_x_datetime(labels=date_format(\"%d-%m-%Y\"), breaks = \"1 day\") +\n",
        "     theme(panel.grid.major = element_blank(), panel.grid.minor = element_blank()) +\n",
        "     scale_color_manual(values=c(\"#d95f02\", \"#1b9e77\"))\n",
        "\n",
        "ggsave(filename = paste0(FIG_DIR, \"cws_time_series_per_lcz_type_o1.png\"), plot = p, width = 21, \n",
        "       height = 11, units = c(\"cm\"), dpi = 300)\n",
        "p"
      ],
      "metadata": {
        "id": "Jcke2j0SXoAg"
      },
      "execution_count": null,
      "outputs": []
    },
    {
      "cell_type": "markdown",
      "source": [
        "You could also plot the average diurnal cycle per LCZ type over the period:"
      ],
      "metadata": {
        "id": "rNsiaj1QthH-"
      }
    },
    {
      "cell_type": "code",
      "source": [
        "%%R\n",
        "# Calculate statistics\n",
        "summary <- summary[, hour := hour(time)]\n",
        "average_diurnal <- summary[, .(mean = mean(median, na.rm = T)), keyby = c(\"hour\", \"lcz_type\")]\n",
        "\n",
        "# Plotting\n",
        "p <- ggplot(average_diurnal, aes(x = hour, y = mean, colour = lcz_type), na.rm = T) +\n",
        "     geom_line() +\n",
        "     geom_point() +\n",
        "     labs(x = \"hour (UTC)\", y = \"ta (\\u00B0C)\", title = paste0(\"QC level: o1\"), color = \"LCZ type\") +\n",
        "     theme_bw() +\n",
        "     scale_x_continuous(breaks = seq(0,24,3)) +\n",
        "     coord_cartesian(ylim = c(19, 32), expand = T) +     \n",
        "     theme(panel.grid.major = element_blank(), panel.grid.minor = element_blank()) +\n",
        "     scale_color_manual(values=c(\"#d95f02\", \"#1b9e77\"))\n",
        "\n",
        "# Saving\n",
        "ggsave(filename = paste0(FIG_DIR, \"cws_diurnal_cycle_per_lcz_type_o1.png\"), plot = p, width = 16, \n",
        "       height = 12, units = c(\"cm\"), dpi = 300)\n",
        "p"
      ],
      "metadata": {
        "id": "YZJ74U1urbIS"
      },
      "execution_count": null,
      "outputs": []
    },
    {
      "cell_type": "markdown",
      "source": [
        "**Task: Try to calculate and plot the average diurnal cycle of the air-temperature difference between the two LCZ types.**\n",
        "\n",
        "One possible solution:"
      ],
      "metadata": {
        "id": "OnK0JRLru5U1"
      }
    },
    {
      "cell_type": "code",
      "source": [
        "%%R\n",
        "diff <- as.data.table(average_diurnal[lcz_type == \"built\"]$mean - average_diurnal[lcz_type == \"natural\"]$mean)\n",
        "diff <- diff[, hour := seq(0,23)]\n",
        "\n",
        "# Plotting\n",
        "p <- ggplot(diff, aes(x = hour, y = V1), na.rm = T) +\n",
        "     geom_line() +\n",
        "     geom_point() +\n",
        "     labs(x = \"hour (UTC)\", y = \"ta (\\u00B0C)\", title = paste0(\"QC level: o1\")) +\n",
        "     theme_bw() +\n",
        "     scale_x_continuous(breaks = seq(0,24,3)) +\n",
        "     coord_cartesian(ylim = c(-0.5, 1.5), expand = T) +     \n",
        "     theme(panel.grid.major = element_blank(), panel.grid.minor = element_blank()) +\n",
        "     geom_hline(yintercept = 0, linetype = 3)\n",
        "\n",
        "# Saving\n",
        "ggsave(filename = paste0(FIG_DIR, \"cws_diurnal_cycle_diff_lcz_type_o1.png\"), plot = p, width = 16, \n",
        "       height = 12, units = c(\"cm\"), dpi = 300)\n",
        "p"
      ],
      "metadata": {
        "id": "TVoyN7yGvKUm"
      },
      "execution_count": null,
      "outputs": []
    },
    {
      "cell_type": "markdown",
      "source": [
        "Nice, looks like the classical shape of the Urban Heat Island (UHI) in mid-latitude cities in summer.\n",
        "\n",
        "We should check the elevation of the stations though. Not that all CWS in natural environments have a different elevation than the \"urban\" CWS:"
      ],
      "metadata": {
        "id": "n1Ti6FvNI1xc"
      }
    },
    {
      "cell_type": "code",
      "source": [
        "%%R\n",
        "data_cws[, .(median_z = median(z, na.rm = T)), by = \"lcz_type\"]"
      ],
      "metadata": {
        "id": "Yz3L-DriJaTw"
      },
      "execution_count": null,
      "outputs": []
    },
    {
      "cell_type": "markdown",
      "source": [
        "OK, doesn't look too bad overall.\n",
        "\n",
        "Maybe we can now plot the air-temperature data on a map to see the spatial pattern of the UHI. We will average over all days for this.\n",
        "\n",
        "**Task: Based on the average diurnal cycles above, select a suitable hour of the day for such a map.**"
      ],
      "metadata": {
        "id": "xswBNK4mJrki"
      }
    },
    {
      "cell_type": "code",
      "source": [
        "%%R\n",
        "# Specify hour (and colour limits, if you want same colour range across maps)\n",
        "# ++++++\n",
        "analysis_hour <- \"4\"\n",
        "colour_limits <- NULL # e.g., colour_limits <- c(17,24)\n",
        "# ++++++\n",
        "\n",
        "# Get data for hour\n",
        "data_cws <- data_cws[, hour := hour(time)]\n",
        "data_map <- copy(data_cws)\n",
        "data_map <- data_map[hour == analysis_hour]\n",
        "\n",
        "# Average over days and remove NA values\n",
        "data_map <- data_map[, ta_ave := mean(ta_int), by = \"p_id\"][, head(.SD, 1), .SDcols = c(\"lon\", \"lat\", \"ta_ave\"), by = p_id]\n",
        "data_map <- data_map[!is.na(ta_ave)]\n",
        "\n",
        "# Plot the map\n",
        "m <- ggmap(back_map) +\n",
        "     geom_point(data = data_map, aes(x = lon, y = lat), shape = 16, size = 3) +\n",
        "     geom_point(data = data_map, aes(x = lon, y = lat, color = ta_ave), shape = 16, size = 2.5) +\n",
        "     scale_color_viridis_c(option = \"plasma\", name = \"ta (\\u00B0C)\", limits = colour_limits) +\n",
        "     labs(x = \"Longitude (° E)\", y = \"Latitude (° N)\", \n",
        "          title = paste0(\"QC level: o1, N_CWS = \", length(unique(data_map$p_id)), \", hour = \", analysis_hour, \":00 UTC\"),\n",
        "          tag = \"Map tiles by Stamen Design, under CC BY 3.0.\\nData by OpenStreetMap, under ODbL.\") +\n",
        "     theme(plot.tag.position = c(0.84, 0.01), plot.tag = element_text(size = rel(0.7))) \n",
        "\n",
        "# Saving\n",
        "ggsave(filename = paste0(FIG_DIR, \"cws_air_temperature_map_h=\",analysis_hour,\".png\"), plot = m, width = 21, \n",
        "       height = 17, units = c(\"cm\"), dpi = 300)\n",
        "m"
      ],
      "metadata": {
        "id": "uRNOTslKMlyX"
      },
      "execution_count": null,
      "outputs": []
    },
    {
      "cell_type": "markdown",
      "source": [
        "You could also plot the deviation of each CWS to the spatial median across all CWS:\n",
        "\n"
      ],
      "metadata": {
        "id": "Hvgv2J8fhU-k"
      }
    },
    {
      "cell_type": "code",
      "source": [
        "%%R\n",
        "# Specify hour (and colour limits, if you want same colour range across maps)\n",
        "# ++++++\n",
        "analysis_hour <- \"4\"\n",
        "colour_limits <- NULL # e.g., colour_limits <- c(-3,3)\n",
        "# ++++++\n",
        "\n",
        "# Get data for hour\n",
        "data_cws <- data_cws[, hour := hour(time)]\n",
        "data_map <- copy(data_cws)\n",
        "data_map <- data_map[hour == analysis_hour]\n",
        "\n",
        "# Average over days and remove NA values\n",
        "data_map <- data_map[, ta_ave := mean(ta_int), by = \"p_id\"][, head(.SD, 1), .SDcols = c(\"lon\", \"lat\", \"ta_ave\"), by = p_id]\n",
        "data_map <- data_map[!is.na(ta_ave)][, ta_diff := ta_ave - median(ta_ave)]\n",
        "\n",
        "# Plot the map\n",
        "m <- ggmap(back_map) +\n",
        "     geom_point(data = data_map, aes(x = lon, y = lat), shape = 16, size = 3) +\n",
        "     geom_point(data = data_map, aes(x = lon, y = lat, color = ta_diff), shape = 16, size = 2.5) +\n",
        "     scale_color_gradient2(low = \"#0072B2\", high = \"red\", mid = \"white\", na.value = \"grey\", \n",
        "                           limits = colour_limits, name = expression(paste(Delta,\"ta (K)\"))) +\n",
        "     labs(x = \"Longitude (° E)\", y = \"Latitude (° N)\", \n",
        "          title = paste0(\"QC level: o1, N_CWS = \", length(unique(data_map$p_id)), \", hour = \", analysis_hour, \":00 UTC\"),\n",
        "          tag = \"Map tiles by Stamen Design, under CC BY 3.0.\\nData by OpenStreetMap, under ODbL.\") +\n",
        "     theme(plot.tag.position = c(0.84, 0.01), plot.tag = element_text(size = rel(0.7))) \n",
        "\n",
        "# Saving\n",
        "ggsave(filename = paste0(FIG_DIR, \"cws_air_temperature_difference_median_map_h=\",analysis_hour,\".png\"), plot = m, width = 21, \n",
        "       height = 17, units = c(\"cm\"), dpi = 300)\n",
        "m"
      ],
      "metadata": {
        "id": "0KpknLhSWx1M"
      },
      "execution_count": null,
      "outputs": []
    },
    {
      "cell_type": "markdown",
      "source": [
        "And finally, plot the air-temperature difference of each CWS to the mean of all CWS located in \"natural\" LCZ:"
      ],
      "metadata": {
        "id": "EAa4aaw2ZSoJ"
      }
    },
    {
      "cell_type": "code",
      "source": [
        "%%R\n",
        "# Specify hour (and colour limits, if you want same colour range across maps)\n",
        "# ++++++\n",
        "analysis_hour <- \"4\"\n",
        "colour_limits <- NULL\n",
        "# ++++++\n",
        "\n",
        "# Get data for hour\n",
        "data_cws <- data_cws[, hour := hour(time)]\n",
        "data_map <- copy(data_cws)\n",
        "data_map <- data_map[hour == analysis_hour]\n",
        "\n",
        "# Average over days, select row and columns, remove NA\n",
        "data_map <- data_map[, ta_ave := mean(ta_int), by = \"p_id\"][, head(.SD, 1), .SDcols = c(\"lon\", \"lat\", \"ta_ave\", \"lcz_type\"), by = p_id][!is.na(ta_ave)]\n",
        "\n",
        "# Calculate mean ta over all CWS in \"natural\" LCZ\n",
        "mean_natural <- mean(data_map[lcz_type == \"natural\"]$ta_ave)\n",
        "\n",
        "# Calculate difference\n",
        "data_map <- data_map[, ta_diff := ta_ave - mean_natural]\n",
        "\n",
        "data_map_urb <- data_map[lcz_type == \"built\"]\n",
        "data_map_nat <- data_map[lcz_type == \"natural\"]\n",
        "\n",
        "# Plot the map\n",
        "m <- ggmap(back_map) +\n",
        "     geom_point(data = data_map_urb, aes(x = lon, y = lat), shape = 16, size = 3) +\n",
        "     geom_point(data = data_map_urb, aes(x = lon, y = lat, color = ta_diff), shape = 16, size = 2.5) +\n",
        "     geom_point(data = data_map_nat, aes(x = lon, y = lat), shape = 15, size = 3) +\n",
        "     geom_point(data = data_map_nat, aes(x = lon, y = lat, color = ta_diff), shape = 15, size = 2.5) +\n",
        "     scale_color_gradient2(low = \"#0072B2\", high = \"red\", mid = \"white\", na.value = \"grey\", \n",
        "                           limits = colour_limits, name = expression(paste(Delta,\"ta (K)\"))) +\n",
        "     labs(x = \"Longitude (° E)\", y = \"Latitude (° N)\", \n",
        "          title = paste0(\"QC level: o1, N_CWS_urb = \", length(unique(data_map_urb$p_id)),\n",
        "                         \", N_CWS_nat = \", length(unique(data_map_nat$p_id)),\", hour = \", analysis_hour, \":00 UTC\"),\n",
        "          tag = \"Map tiles by Stamen Design, under CC BY 3.0.\\nData by OpenStreetMap, under ODbL.\") +\n",
        "     theme(plot.tag.position = c(0.84, 0.01), plot.tag = element_text(size = rel(0.7))) \n",
        "\n",
        "# Saving\n",
        "ggsave(filename = paste0(FIG_DIR, \"cws_air_temperature_difference_naturalLCZ_map_h=\",analysis_hour,\".png\"), plot = m, width = 21, \n",
        "       height = 17, units = c(\"cm\"), dpi = 300)\n",
        "m"
      ],
      "metadata": {
        "id": "oHFO6mpKZfAh"
      },
      "execution_count": null,
      "outputs": []
    },
    {
      "cell_type": "markdown",
      "source": [
        "##That's it for today, well done!\n",
        "\n",
        "Feel free to play around with the data on your own now.\n",
        "\n",
        "Do not hesitate to ask Jonas (Kittner) or Daniel (Fenner) if something is not working or in case of any questions."
      ],
      "metadata": {
        "id": "kFHZweybc9Zt"
      }
    }
  ]
}