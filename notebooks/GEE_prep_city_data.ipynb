{
  "nbformat": 4,
  "nbformat_minor": 0,
  "metadata": {
    "colab": {
      "provenance": [],
      "collapsed_sections": []
    },
    "kernelspec": {
      "name": "python3",
      "display_name": "Python 3"
    },
    "language_info": {
      "name": "python"
    }
  },
  "cells": [
    {
      "cell_type": "markdown",
      "source": [
        "# Prepare German city boundaries\n",
        "\n",
        "As in the [Newspaper report](https://interaktiv.morgenpost.de/gruenste-staedte-deutschlands/), we'd like to select large German cities, and look at the green fraction within their boundaries. \n",
        "\n",
        "So for this we need:\n",
        "\n",
        "\n",
        "*   City polygons: download Level-4 GeoJSON file for Germany from [GADM](https://gadm.org/download_country.html)\n",
        "*   City information: download .xlsx table with information on German cities for 31.12.2020, available from [DESTATIS](https://www.destatis.de/DE/Themen/Laender-Regionen/Regionales/Gemeindeverzeichnis/Administrativ/05-staedte.html)\n",
        "\n",
        "\n",
        "In the notebook below, the following steps are done:\n",
        "\n",
        "\n",
        "1.   Read city .xlsx, select city names that have population > POP_SIZE_THRES\n",
        "2.   Extract the same cities from GeoJSON\n",
        "3.   Merge two tables into one\n",
        "4.   Clean the table, and save as shapefile to *output/* on your drive folder\n",
        "\n",
        "\n",
        "In the Newspaper article, they explore cities with POP_SIZE_THRES > 100.000\n",
        "\n",
        "Let's do the same here!"
      ],
      "metadata": {
        "id": "2NXbUvvl7Mml"
      }
    },
    {
      "cell_type": "code",
      "source": [
        "# First load your Google Drive.\n",
        "from google.colab import drive\n",
        "drive.mount('/content/drive', force_remount=True)\n",
        "\n",
        "# After mounting, check folders in left side-bar\n",
        "# If this code does not work, you can use the \"Mount Drive\" button in the left side-bar"
      ],
      "metadata": {
        "id": "H62aA5SrdskY"
      },
      "execution_count": null,
      "outputs": []
    },
    {
      "cell_type": "code",
      "source": [
        "!pip install geopandas"
      ],
      "metadata": {
        "id": "JgHI2bMULCDu"
      },
      "execution_count": null,
      "outputs": []
    },
    {
      "cell_type": "code",
      "execution_count": null,
      "metadata": {
        "id": "Ghe5w80fdK4x"
      },
      "outputs": [],
      "source": [
        "import pandas as pd\n",
        "import geopandas as gpd"
      ]
    },
    {
      "cell_type": "code",
      "source": [
        "# Set relevant directories\n",
        "import os\n",
        "\n",
        "# Your own baseline directory - if mounted under MyDrive, do not change.\n",
        "BASE_DIR = os.path.join('/content/drive/MyDrive/BUCSS22')\n",
        "print('BASE_DIR: ',BASE_DIR)\n",
        "\n",
        "# Create a link to notebooks directory\n",
        "YOUR_NAME = \"Matthias_Lecturer\" # Name of your own folder\n",
        "NOTEBOOKS_DIR = os.path.join(BASE_DIR, YOUR_NAME, 'notebooks')\n",
        "print('NOTEBOOKS_DIR: ',NOTEBOOKS_DIR)\n",
        "\n",
        "# Other relevant folders\n",
        "GEE_DIR         = os.path.join(BASE_DIR, 'DATA_SHARE', 'GEE')\n",
        "OUT_DIR         = os.path.join(BASE_DIR, YOUR_NAME, 'output')\n",
        "print('OUT_DIR: ',GEE_DIR)\n",
        "print('FIG_DIR: ',OUT_DIR)"
      ],
      "metadata": {
        "id": "W_JbgcKBdQiH"
      },
      "execution_count": null,
      "outputs": []
    },
    {
      "cell_type": "code",
      "source": [
        "# Set the population threshold to be used\n",
        "POP_SIZE_THRES = 100000"
      ],
      "metadata": {
        "id": "LivJgQQCS3Ib"
      },
      "execution_count": null,
      "outputs": []
    },
    {
      "cell_type": "code",
      "source": [
        "# Define the relevant files\n",
        "fn_city = os.path.join(GEE_DIR, \"05-staedte.xlsx\")\n",
        "fn_city_json = os.path.join(GEE_DIR, \"gadm41_DEU_4.json\")"
      ],
      "metadata": {
        "id": "Pt1uXKHR9Kpm"
      },
      "execution_count": null,
      "outputs": []
    },
    {
      "cell_type": "code",
      "source": [
        "# Read the city data\n",
        "df_city = pd.read_excel(fn_city, sheet_name=\"Städte\", skiprows=6)\n",
        "df_city"
      ],
      "metadata": {
        "id": "pUEpuuAhd120"
      },
      "execution_count": null,
      "outputs": []
    },
    {
      "cell_type": "code",
      "source": [
        "# Only cities with a population > POP_SIZE_THRES\n",
        "df_city = df_city[df_city['Unnamed: 9'] > POP_SIZE_THRES][:-1]\n",
        "\n",
        "# Initially I thought to merge the two datasets by city name\n",
        "# Yet some cities / villages in Germany have the same name, eg. Oberhausen (exists 4 times)\n",
        "cities = [i.split(',')[0] for i in df_city['Unnamed: 6'] if i != 'Städte insgesamt']\n",
        "df_city['CITY'] = cities"
      ],
      "metadata": {
        "id": "H2sICVvmd6Fj"
      },
      "execution_count": null,
      "outputs": []
    },
    {
      "cell_type": "code",
      "source": [
        "# Read json file\n",
        "df_json = gpd.read_file(fn_city_json)\n",
        "print(df_json.head())"
      ],
      "metadata": {
        "id": "W0OABBqe2-rF"
      },
      "execution_count": null,
      "outputs": []
    },
    {
      "cell_type": "code",
      "source": [
        "# Get only entries in GeoSJON that has TYPE_4 city\n",
        "df_json_city = df_json[df_json['TYPE_4'] == \"Stadt\"]\n",
        "df_json_city"
      ],
      "metadata": {
        "id": "wWGVyHpG2cUS"
      },
      "execution_count": null,
      "outputs": []
    },
    {
      "cell_type": "code",
      "source": [
        "# Join JSON with other table, based on city name\n",
        "df_all = pd.merge(df_city[['Unnamed: 8', 'Unnamed: 9', 'CITY']], df_json_city, left_on='CITY', right_on='NAME_4')\n",
        "df_all"
      ],
      "metadata": {
        "id": "nnk_HLeAd7Ri"
      },
      "execution_count": null,
      "outputs": []
    },
    {
      "cell_type": "code",
      "source": [
        "# Clean up a bit before saving\n",
        "df_all_final = gpd.GeoDataFrame(df_all.rename({'Unnamed: 8': 'Area (km2)', 'Unnamed: 9': 'Population'}, axis=1)[['CITY', 'Area (km2)', 'Population', 'geometry']])\n",
        "df_all_final"
      ],
      "metadata": {
        "id": "F_qLUstvqhN2"
      },
      "execution_count": null,
      "outputs": []
    },
    {
      "cell_type": "code",
      "source": [
        "# Save to file\n",
        "OFILE = os.path.join(OUT_DIR, f\"df_large_cities_{POP_SIZE_THRES}.shp\")\n",
        "df_all_final.to_file(OFILE)"
      ],
      "metadata": {
        "id": "ZwNTN0o_fgCo"
      },
      "execution_count": null,
      "outputs": []
    },
    {
      "cell_type": "code",
      "source": [
        "print(f\"Shapefile available at: {OFILE}\")"
      ],
      "metadata": {
        "id": "NSGFHYzaLZJL"
      },
      "execution_count": null,
      "outputs": []
    }
  ]
}