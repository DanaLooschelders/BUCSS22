{
  "nbformat": 4,
  "nbformat_minor": 0,
  "metadata": {
    "colab": {
      "provenance": [],
      "collapsed_sections": [
        "2NXbUvvl7Mml"
      ]
    },
    "kernelspec": {
      "name": "python3",
      "display_name": "Python 3"
    },
    "language_info": {
      "name": "python"
    }
  },
  "cells": [
    {
      "cell_type": "markdown",
      "source": [
        "# Plot greenest cities on a map?\n",
        "\n",
        "Now we have a GeoSJON file that contains the city, its geometry and a *green_fraction* value.\n",
        "\n",
        "Can we plot this on an interactive map, as used in the Newspaper?\n",
        "\n",
        "******\n",
        "**Copyright: 2022, Matthias Demuzere**\n",
        "******"
      ],
      "metadata": {
        "id": "2NXbUvvl7Mml"
      }
    },
    {
      "cell_type": "code",
      "source": [
        "# First load your Google Drive.\n",
        "from google.colab import drive\n",
        "drive.mount('/content/drive', force_remount=True)\n",
        "\n",
        "# After mounting, check folders in left side-bar\n",
        "# If this code does not work, you can use the \"Mount Drive\" button in the left side-bar"
      ],
      "metadata": {
        "id": "H62aA5SrdskY"
      },
      "execution_count": null,
      "outputs": []
    },
    {
      "cell_type": "code",
      "source": [
        "!pip install geemap"
      ],
      "metadata": {
        "id": "9o9tblq-mmAa"
      },
      "execution_count": null,
      "outputs": []
    },
    {
      "cell_type": "code",
      "execution_count": null,
      "metadata": {
        "id": "Ghe5w80fdK4x"
      },
      "outputs": [],
      "source": [
        "import pandas as pd\n",
        "import geemap\n",
        "from geemap import geojson_to_ee, ee_to_geojson\n",
        "import json\n",
        "from ipyleaflet import GeoJSON\n",
        "from ipywidgets import Text, HTML\n",
        "from ipyleaflet import WidgetControl, GeoJSON\n",
        "import numpy as np\n",
        "import folium"
      ]
    },
    {
      "cell_type": "code",
      "source": [
        "# Set relevant directories\n",
        "import os\n",
        "\n",
        "# Your own baseline directory - if mounted under MyDrive, do not change.\n",
        "BASE_DIR = os.path.join('/content/drive/MyDrive/BUCSS22')\n",
        "print('BASE_DIR: ',BASE_DIR)\n",
        "\n",
        "# Create a link to notebooks directory\n",
        "YOUR_NAME = \"Matthias_Lecturer\" # Name of your own folder\n",
        "NOTEBOOKS_DIR = os.path.join(BASE_DIR, YOUR_NAME, 'notebooks')\n",
        "print('NOTEBOOKS_DIR: ',NOTEBOOKS_DIR)\n",
        "\n",
        "# Other relevant folders\n",
        "GEE_DIR         = os.path.join(BASE_DIR, 'DATA_SHARE', 'GEE')\n",
        "OUT_DIR         = os.path.join(BASE_DIR, YOUR_NAME, 'output')\n",
        "FIG_DIR         = os.path.join(BASE_DIR, YOUR_NAME, 'figures')\n",
        "print('GEE_DIR: ',GEE_DIR)\n",
        "print('OUT_DIR: ',OUT_DIR)\n",
        "print('FIG_DIR: ',FIG_DIR)\n",
        "\n",
        "# Set the population threshold to be used\n",
        "POP_SIZE_THRES = 100000\n",
        "\n",
        "FN_JSON = os.path.join(OUT_DIR, f\"fc_cities_ndvi_{POP_SIZE_THRES}.geojson\")"
      ],
      "metadata": {
        "id": "W_JbgcKBdQiH"
      },
      "execution_count": null,
      "outputs": []
    },
    {
      "cell_type": "code",
      "source": [
        "import ee\n",
        "ee.Authenticate()\n",
        "ee.Initialize()\n",
        "\n",
        "FN_EE_S2 = ee.Image(\"projects/ee-bucss-bot/assets/ndvi_germany_30m\")"
      ],
      "metadata": {
        "id": "NdJvUXwRQlSA"
      },
      "execution_count": null,
      "outputs": []
    },
    {
      "cell_type": "code",
      "source": [
        "# Initialize a map\n",
        "Map = geemap.Map(center=[51.163375,10.447683333], zoom=7, basemap='CartoDB.DarkMatter', width=1400, height=1000)"
      ],
      "metadata": {
        "id": "jQy6NtHUU9SU"
      },
      "execution_count": null,
      "outputs": []
    },
    {
      "cell_type": "code",
      "source": [
        "# Add the Sentinel-2 NDVI data to the map\n",
        "cb_greens = [\n",
        "  '101721' ,'282e36', '2f423d', '345744', '376d4b',\n",
        "  '398552','399b58', '37b35e', '30cc64', '24e56a', '00ff70'\n",
        "  ];\n",
        "\n",
        "Map.addLayer(FN_EE_S2, {'min':0.45, 'max':1, 'palette':cb_greens}, 'S2 NDVI')"
      ],
      "metadata": {
        "id": "FW4YBHdtowHx"
      },
      "execution_count": null,
      "outputs": []
    },
    {
      "cell_type": "code",
      "source": [
        "# Now also add the city polygons\n",
        "style = {\n",
        "    \"stroke\": True,\n",
        "    \"color\": \"#FFFFFF\",\n",
        "    \"weight\": 2,\n",
        "    \"opacity\": 1,\n",
        "    \"fill\": True,\n",
        "    \"fillColor\": \"#FFFFFF\",\n",
        "    \"fillOpacity\": 0.0,\n",
        "}\n",
        "\n",
        "hover_style = {\"fillOpacity\": 0.1}\n",
        "\n",
        "Map.add_geojson(FN_JSON, layer_name=\"CITY\", style=style, hover_style=hover_style)"
      ],
      "metadata": {
        "id": "9-DrGGPKp6MM"
      },
      "execution_count": null,
      "outputs": []
    },
    {
      "cell_type": "code",
      "source": [
        "Map"
      ],
      "metadata": {
        "id": "-ym7uYaAyI-k"
      },
      "execution_count": null,
      "outputs": []
    },
    {
      "cell_type": "markdown",
      "source": [
        "# Plot ranking of greenest city?\n",
        "\n",
        "Make a figure with cities, starting with the greenest one.\n",
        "\n",
        "Add-on: learn how to install a python package with a specific version number.\n",
        "\n",
        "Example, matplotlib can automatically annotate bar plots with labels from version 3.4.0 ([Info here](https://matplotlib.org/3.4.0/users/whats_new.html#new-automatic-labeling-for-bar-charts))"
      ],
      "metadata": {
        "id": "0T1CCxtrSbUW"
      }
    },
    {
      "cell_type": "code",
      "source": [
        "!pip install geopandas"
      ],
      "metadata": {
        "id": "b3ue68rdMmQi"
      },
      "execution_count": null,
      "outputs": []
    },
    {
      "cell_type": "code",
      "source": [
        "import geopandas as gpd\n",
        "df = gpd.read_file(FN_JSON)"
      ],
      "metadata": {
        "id": "PsDJ3xBxMDKQ"
      },
      "execution_count": null,
      "outputs": []
    },
    {
      "cell_type": "code",
      "source": [
        "# Reduce the dataframe, to what we need\n",
        "df_sel = df[['CITY', 'green_fraction']].copy()\n",
        "df_sel.sort_values(['green_fraction'], ascending=True, inplace=True)\n",
        "\n",
        "# Reduce green fraction to 1 decimal\n",
        "df_sel = df_sel.round({'green_fraction':1})"
      ],
      "metadata": {
        "id": "H3W0wQ_tMbw_"
      },
      "execution_count": null,
      "outputs": []
    },
    {
      "cell_type": "code",
      "source": [
        "df_sel"
      ],
      "metadata": {
        "id": "N4FhRcq6NRRh"
      },
      "execution_count": null,
      "outputs": []
    },
    {
      "cell_type": "code",
      "source": [
        "import matplotlib as mpl\n",
        "print(mpl.__version__)"
      ],
      "metadata": {
        "id": "kfJZYDx9P_Us"
      },
      "execution_count": null,
      "outputs": []
    },
    {
      "cell_type": "code",
      "source": [
        "!pip install matplotlib==3.4.0"
      ],
      "metadata": {
        "id": "HWgh-rE8QDrG"
      },
      "execution_count": null,
      "outputs": []
    },
    {
      "cell_type": "code",
      "source": [
        "import matplotlib.pyplot as plt\n",
        "\n",
        "plt.rcParams.update({'font.size': 14})\n",
        "\n",
        "fig,ax = plt.subplots(1,1, figsize=(10,25), facecolor='#101722')\n",
        "df_sel[['CITY', 'green_fraction']].plot.barh(ax=ax, color=\"#4ae569\")\n",
        "ax.set_facecolor(\"#101722\")\n",
        "ax.bar_label(ax.containers[0], color=\"#FFFFFF\")\n",
        "ax.set_yticklabels(labels=df_sel['CITY'], color=\"#FFFFFF\")\n",
        "ax.set_xlim(0,100)\n",
        "\n",
        "OFILE = os.path.join(\n",
        "    FIG_DIR,\n",
        "    \"Greenest_city_raking.jpg\"\n",
        ")\n",
        "plt.savefig(OFILE, dpi=300)"
      ],
      "metadata": {
        "id": "Ye_qd4fAQIeg"
      },
      "execution_count": null,
      "outputs": []
    },
    {
      "cell_type": "code",
      "source": [],
      "metadata": {
        "id": "evCaIP0BkfVc"
      },
      "execution_count": null,
      "outputs": []
    }
  ]
}