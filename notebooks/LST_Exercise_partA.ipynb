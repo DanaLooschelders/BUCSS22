{
  "cells": [
    {
      "cell_type": "markdown",
      "metadata": {
        "id": "7FlZENlT4hXT"
      },
      "source": [
        "# Remote Sensing Exercise - Part A\n",
        "\n",
        "In this  exercise you will get a rough idea of how we process the LST data and calculate zonal statistics for our DB.\n",
        "\n",
        "## Data\n",
        "\n",
        "The data we use are from the new [LST_cci](https://climate.esa.int/en/projects/land-surface-temperature/about/) Terra MODIS product. They cover the region of Mexico and refer to the year 2018.\n",
        "\n",
        "## Steps\n",
        "\n",
        "What we will do:\n",
        "\n",
        "1. Open the netCDF4 file and inspect its attributes.\n",
        "2. Visualize the LST, VZA and LST_uncertainty data.\n",
        "3. Quality filter the LST data using the uncertainties.\n",
        "4. Calculate the LST min, mean, max and StD for Mexico City for every cloud-free day of 2018.\n",
        "\n",
        "******\n",
        "**Copyright: 2022, Panagiotis Sismanidis**\n",
        "******\n"
      ]
    },
    {
      "cell_type": "code",
      "source": [
        "# First load your Google Drive.\n",
        "from google.colab import drive\n",
        "drive.mount('/content/drive', force_remount=True)\n",
        "\n",
        "# After mounting, check folders in left side-bar\n",
        "# If this code does not work, you can use the \"Mount Drive\" button in the left side-bar"
      ],
      "metadata": {
        "id": "H0EBN45v4x7N"
      },
      "execution_count": null,
      "outputs": []
    },
    {
      "cell_type": "code",
      "execution_count": null,
      "metadata": {
        "id": "D4pDI8MZ4hXW"
      },
      "outputs": [],
      "source": [
        "# Import the modules we will need\n",
        "import netCDF4\n",
        "import numpy as np\n",
        "import pandas as pd\n",
        "import matplotlib.pyplot as plt\n",
        "import skimage.io as io"
      ]
    },
    {
      "cell_type": "code",
      "source": [
        "# Set relevant directories\n",
        "import os\n",
        "\n",
        "# Your own baseline directory - if mounted under MyDrive, do not change.\n",
        "BASE_DIR = os.path.join('/content/drive/MyDrive/BUCSS22')\n",
        "print('BASE_DIR: ',BASE_DIR)\n",
        "\n",
        "# Create a link to notebooks directory\n",
        "YOUR_NAME = \"Panagiotis_Lecturer\" # Name of your own folder\n",
        "NOTEBOOKS_DIR = os.path.join(BASE_DIR, YOUR_NAME, 'notebooks')\n",
        "print('NOTEBOOKS_DIR: ',NOTEBOOKS_DIR)\n",
        "\n",
        "# Other relevant folders\n",
        "LST_DIR         = os.path.join(BASE_DIR, 'DATA_SHARE', 'LST')\n",
        "print('DATA_DIR: ',LST_DIR)"
      ],
      "metadata": {
        "id": "DQCAgsj944r8"
      },
      "execution_count": null,
      "outputs": []
    },
    {
      "cell_type": "markdown",
      "source": [
        "## Let's Start..."
      ],
      "metadata": {
        "id": "GzKTX57aLFtP"
      }
    },
    {
      "cell_type": "code",
      "execution_count": null,
      "metadata": {
        "id": "RPagCWn04hXc"
      },
      "outputs": [],
      "source": [
        "# Let's start by opening the netCDF4 file with the LST data\n",
        "\n"
      ]
    },
    {
      "cell_type": "code",
      "execution_count": null,
      "metadata": {
        "id": "LQTH6ztr4hXd"
      },
      "outputs": [],
      "source": [
        "# Next, let's print the attributes of the LST variable.\n"
      ]
    },
    {
      "cell_type": "code",
      "execution_count": null,
      "metadata": {
        "id": "5ymGKaFH4hXe"
      },
      "outputs": [],
      "source": [
        "# Let's start by reading some data\n",
        "\n",
        "# and then print the shape of the three datacube"
      ]
    },
    {
      "cell_type": "code",
      "execution_count": null,
      "metadata": {
        "id": "qyemrBlx4hXf"
      },
      "outputs": [],
      "source": [
        "# Now, let's see how do they look:\n"
      ]
    },
    {
      "cell_type": "markdown",
      "source": [
        "The uncertainty associated with each LST observation differs from pixel to pixel. We generally want to keep the most accurate observations. First let's examine the distribution of the LST total uncertainty to get an idea of what is going on."
      ],
      "metadata": {
        "id": "AFhGgR8Q9BH7"
      }
    },
    {
      "cell_type": "code",
      "source": [],
      "metadata": {
        "id": "DRdNTNKQ9pSB"
      },
      "execution_count": null,
      "outputs": []
    },
    {
      "cell_type": "code",
      "execution_count": null,
      "metadata": {
        "id": "x-tJFXre4hXg"
      },
      "outputs": [],
      "source": [
        "# create a mask and plot the result\n"
      ]
    },
    {
      "cell_type": "markdown",
      "metadata": {
        "id": "XW24caup4hXh"
      },
      "source": [
        "\n",
        "We want to keep only the purple pixels. All the rest need to go."
      ]
    },
    {
      "cell_type": "code",
      "source": [
        "# I will first Create a copy of the original array, so we can compare the before and after.\n"
      ],
      "metadata": {
        "id": "W1WITaR8CC4B"
      },
      "execution_count": null,
      "outputs": []
    },
    {
      "cell_type": "code",
      "execution_count": null,
      "metadata": {
        "id": "s5E4p3xd4hXh"
      },
      "outputs": [],
      "source": [
        "# Now, let's mask the low-quality pixels\n"
      ]
    },
    {
      "cell_type": "markdown",
      "source": [
        "The stricter we are the more pixels we will discard. Just remember that the LST uncertainty for urban pixels is usually >2 K."
      ],
      "metadata": {
        "id": "FmxoMghKCOo_"
      }
    },
    {
      "cell_type": "markdown",
      "metadata": {
        "id": "IFsuWolT4hXi"
      },
      "source": [
        "## Zonal Statistics\n",
        "\n",
        "Let's calculate the daily mean, min, max, and StD LST for Mexico city."
      ]
    },
    {
      "cell_type": "code",
      "execution_count": null,
      "metadata": {
        "id": "bZwa0uTS4hXi"
      },
      "outputs": [],
      "source": [
        "# We will first load a raster layer with the urban boundaries\n"
      ]
    },
    {
      "cell_type": "code",
      "source": [
        "# Notice that the spatial dimensions are exactly the same with the nc data\n",
        "print(cities.shape)"
      ],
      "metadata": {
        "id": "bcnXRYf8DBFO"
      },
      "execution_count": null,
      "outputs": []
    },
    {
      "cell_type": "code",
      "execution_count": null,
      "metadata": {
        "id": "2A9KFR7p4hXi"
      },
      "outputs": [],
      "source": [
        "# The value of the Mexico city pixels is equal to 9. We will use this to create a mask.\n"
      ]
    },
    {
      "cell_type": "code",
      "execution_count": null,
      "metadata": {
        "id": "mwvAwxZo4hXj"
      },
      "outputs": [],
      "source": [
        "# Let's also count how many pixels there are in the mask\n"
      ]
    },
    {
      "cell_type": "markdown",
      "source": [
        "Now let's use the city mask to select only the LST pixels we need for each day"
      ],
      "metadata": {
        "id": "4g6eAGeqIHNa"
      }
    },
    {
      "cell_type": "code",
      "execution_count": null,
      "metadata": {
        "id": "67-CZrqy4hXk"
      },
      "outputs": [],
      "source": [
        "# For each day I will add a dictionary with the spatial mean, min, max and std in the lst `data`.\n"
      ]
    },
    {
      "cell_type": "code",
      "source": [
        "# The number of dataframe rows should be the same as the number of LST bands.\n"
      ],
      "metadata": {
        "id": "QDAWcUu8LyYf"
      },
      "execution_count": null,
      "outputs": []
    },
    {
      "cell_type": "markdown",
      "source": [
        "We will also add a new column with each date."
      ],
      "metadata": {
        "id": "y2CvOiXeNRxI"
      }
    },
    {
      "cell_type": "code",
      "source": [],
      "metadata": {
        "id": "VfPd8_KrL8pe"
      },
      "execution_count": null,
      "outputs": []
    },
    {
      "cell_type": "code",
      "source": [
        "# Let's plot the result\n"
      ],
      "metadata": {
        "id": "K1qPEV3VN84o"
      },
      "execution_count": null,
      "outputs": []
    },
    {
      "cell_type": "markdown",
      "source": [
        "**Well Done!**\n",
        "\n",
        "Now, we will now move to Part B, which focuses on data analysis."
      ],
      "metadata": {
        "id": "xOLQ_QeDIhm3"
      }
    }
  ],
  "metadata": {
    "kernelspec": {
      "display_name": "Python 3.9.7 ('generic')",
      "language": "python",
      "name": "python3"
    },
    "language_info": {
      "codemirror_mode": {
        "name": "ipython",
        "version": 3
      },
      "file_extension": ".py",
      "mimetype": "text/x-python",
      "name": "python",
      "nbconvert_exporter": "python",
      "pygments_lexer": "ipython3",
      "version": "3.9.7"
    },
    "orig_nbformat": 4,
    "vscode": {
      "interpreter": {
        "hash": "06f083935e30b95c7c2f1c8561ed39d60636d67fb64146f40dec744ee624dfd9"
      }
    },
    "colab": {
      "provenance": [],
      "collapsed_sections": []
    }
  },
  "nbformat": 4,
  "nbformat_minor": 0
}